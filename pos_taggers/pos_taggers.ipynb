{
 "cells": [
  {
   "cell_type": "code",
   "execution_count": 1,
   "metadata": {
    "collapsed": true
   },
   "outputs": [],
   "source": [
    "import os\n",
    "import re\n",
    "\n",
    "import nltk\n",
    "from nltk.tokenize import TreebankWordTokenizer\n",
    "from nltk.stem import WordNetLemmatizer\n",
    "from nltk import pos_tag\n",
    "from nltk.corpus import treebank\n",
    "from nltk.corpus.reader.conll import *\n",
    "\n",
    "from pymystem3 import Mystem\n",
    "\n",
    "import pymorphy2\n"
   ]
  },
  {
   "cell_type": "markdown",
   "metadata": {},
   "source": [
    "Dataset - a lecture tapescript on socioligical studies"
   ]
  },
  {
   "cell_type": "code",
   "execution_count": 2,
   "metadata": {
    "collapsed": true
   },
   "outputs": [],
   "source": [
    "with open('2005_04_14_miller_.txt') as fl:\n",
    "    text = fl.read()"
   ]
  },
  {
   "cell_type": "markdown",
   "metadata": {},
   "source": [
    "Text preprocessing"
   ]
  },
  {
   "cell_type": "code",
   "execution_count": 5,
   "metadata": {
    "collapsed": true
   },
   "outputs": [],
   "source": [
    "tokenized_text = TreebankWordTokenizer().tokenize(text.lower())\n",
    "wordsFiltered = []\n",
    "\n",
    "for w in tokenized_text:\n",
    "    for wf in re.findall(r'(?u)(\\w+)', w):\n",
    "        for wfreal in re.findall(r'(\\D+)', wf):\n",
    "            wordsFiltered.append(''.join(wfreal).replace('\\n',''))\n",
    "            "
   ]
  },
  {
   "cell_type": "code",
   "execution_count": 6,
   "metadata": {},
   "outputs": [
    {
     "name": "stdout",
     "output_type": "stream",
     "text": [
      "['процентному', 'империи', 'после', 'нет', 'течение', 'никита', 'одно', 'правит', 'польскими', 'немецким', 'значения', 'увидим', 'упорно', 'скажу', 'пожалуй', 'книг', 'француз', 'стремились', 'безграмотности', 'прошло', 'молодые', 'империю', 'сепаратистски', 'велика', 'опубликовать', 'пересказывать', 'пользовался', 'выгона', 'носил', 'думает', 'почитайте', 'присваивали', 'соперников', 'мадьяризации', 'прошлого', 'разговора', 'пусть', 'зала', 'равно', 'мыслю', 'фактору', 'историку', 'обошлись', 'фантомизировать', 'ничего', 'этому', 'неперевариваемой', 'взамен', 'угро', 'условиях']\n"
     ]
    }
   ],
   "source": [
    "unique_words = list(set(wordsFiltered))\n",
    "print(unique_words[:50])"
   ]
  },
  {
   "cell_type": "markdown",
   "metadata": {},
   "source": [
    "## POS_taggers comparison"
   ]
  },
  {
   "cell_type": "markdown",
   "metadata": {},
   "source": [
    "### Mystem from Pymystem3\n",
    "\n",
    "- input format: string _(can prosess the whole text)_\n",
    "- output format: dictionary with pos tags + additional grammatical info and lemma\n",
    "- method: mystem.analyze(text)"
   ]
  },
  {
   "cell_type": "code",
   "execution_count": 7,
   "metadata": {
    "collapsed": true
   },
   "outputs": [],
   "source": [
    "m = Mystem()"
   ]
  },
  {
   "cell_type": "code",
   "execution_count": 8,
   "metadata": {},
   "outputs": [
    {
     "data": {
      "text/plain": [
       "[{'analysis': [{'gr': 'V,нп=прош,мн,изъяв,сов', 'lex': 'становиться'}],\n",
       "  'text': 'стали'},\n",
       " {'text': '\\n'}]"
      ]
     },
     "execution_count": 8,
     "metadata": {},
     "output_type": "execute_result"
    }
   ],
   "source": [
    "#example\n",
    "a = m.analyze('стали')\n",
    "a"
   ]
  },
  {
   "cell_type": "code",
   "execution_count": 9,
   "metadata": {
    "collapsed": true
   },
   "outputs": [],
   "source": [
    "POS_mystem = m.analyze(text)"
   ]
  },
  {
   "cell_type": "code",
   "execution_count": 10,
   "metadata": {},
   "outputs": [
    {
     "data": {
      "text/plain": [
       "[{'analysis': [{'gr': 'SPRO,мн,1-л=им', 'lex': 'мы'}], 'text': 'Мы'},\n",
       " {'text': ' ('},\n",
       " {'analysis': [{'gr': 'PR=', 'lex': 'с'}], 'text': 'с'},\n",
       " {'text': ' '},\n",
       " {'analysis': [{'gr': 'APRO=(пр,ед,жен|дат,ед,жен|род,ед,жен|твор,ед,жен)',\n",
       "    'lex': 'некоторый'}],\n",
       "  'text': 'некоторой'},\n",
       " {'text': ' '},\n",
       " {'analysis': [{'gr': 'S,жен,неод=твор,ед', 'lex': 'задержка'}],\n",
       "  'text': 'задержкой'},\n",
       " {'text': ', '},\n",
       " {'analysis': [{'gr': 'V,пе=(прош,пр,ед,прич,полн,жен,сов,страд|прош,дат,ед,прич,полн,жен,сов,страд|прош,род,ед,прич,полн,жен,сов,страд|прош,твор,ед,прич,полн,жен,сов,страд)',\n",
       "    'lex': 'вызывать'}],\n",
       "  'text': 'вызванной'},\n",
       " {'text': ' '},\n",
       " {'analysis': [{'gr': 'A=твор,мн,полн', 'lex': 'технический'}],\n",
       "  'text': 'техническими'},\n",
       " {'text': ' '},\n",
       " {'analysis': [{'gr': 'S,сред,неод=твор,мн', 'lex': 'обстоятельство'}],\n",
       "  'text': 'обстоятельствами'},\n",
       " {'text': ') '},\n",
       " {'analysis': [{'gr': 'V,несов,пе=(непрош,мн,изъяв,1-л|непрош,ед,прич,кр,муж,страд)',\n",
       "    'lex': 'публиковать'}],\n",
       "  'text': 'публикуем'},\n",
       " {'text': ' '},\n",
       " {'analysis': [{'gr': 'A=вин,ед,полн,жен', 'lex': 'полный'}],\n",
       "  'text': 'полную'},\n",
       " {'text': ' '},\n",
       " {'analysis': [{'gr': 'S,жен,неод=вин,ед', 'lex': 'стенограмма'}],\n",
       "  'text': 'стенограмму'},\n",
       " {'text': ' '}]"
      ]
     },
     "execution_count": 10,
     "metadata": {},
     "output_type": "execute_result"
    }
   ],
   "source": [
    "POS_mystem[:20]"
   ]
  },
  {
   "cell_type": "code",
   "execution_count": 11,
   "metadata": {
    "collapsed": true
   },
   "outputs": [],
   "source": [
    "POS_mystem2 = []\n",
    "\n",
    "for word in unique_words:\n",
    "    POS_mystem2.append(m.analyze(word))"
   ]
  },
  {
   "cell_type": "code",
   "execution_count": 12,
   "metadata": {},
   "outputs": [
    {
     "data": {
      "text/plain": [
       "[[{'analysis': [{'gr': 'A=(дат,ед,полн,муж|дат,ед,полн,сред)',\n",
       "     'lex': 'процентный'}],\n",
       "   'text': 'процентному'},\n",
       "  {'text': '\\n'}],\n",
       " [{'analysis': [{'gr': 'S,жен,неод=(пр,ед|вин,мн|дат,ед|род,ед|им,мн)',\n",
       "     'lex': 'империя'}],\n",
       "   'text': 'империи'},\n",
       "  {'text': '\\n'}],\n",
       " [{'analysis': [{'gr': 'ADV=', 'lex': 'после'}], 'text': 'после'},\n",
       "  {'text': '\\n'}],\n",
       " [{'analysis': [{'gr': 'PART=', 'lex': 'нет'}], 'text': 'нет'},\n",
       "  {'text': '\\n'}],\n",
       " [{'analysis': [{'gr': 'S,сред,неод=(вин,ед|им,ед)', 'lex': 'течение'}],\n",
       "   'text': 'течение'},\n",
       "  {'text': '\\n'}],\n",
       " [{'analysis': [{'gr': 'S,имя,муж,од=им,ед', 'lex': 'никита'}],\n",
       "   'text': 'никита'},\n",
       "  {'text': '\\n'}],\n",
       " [{'analysis': [{'gr': 'APRO=(вин,ед,сред|им,ед,сред)', 'lex': 'один'}],\n",
       "   'text': 'одно'},\n",
       "  {'text': '\\n'}],\n",
       " [{'analysis': [{'gr': 'V,несов,пе=непрош,ед,изъяв,3-л', 'lex': 'править'}],\n",
       "   'text': 'правит'},\n",
       "  {'text': '\\n'}],\n",
       " [{'analysis': [{'gr': 'A=твор,мн,полн', 'lex': 'польский'}],\n",
       "   'text': 'польскими'},\n",
       "  {'text': '\\n'}],\n",
       " [{'analysis': [{'gr': 'A=(дат,мн,полн|твор,ед,полн,муж|твор,ед,полн,сред)',\n",
       "     'lex': 'немецкий'}],\n",
       "   'text': 'немецким'},\n",
       "  {'text': '\\n'}]]"
      ]
     },
     "execution_count": 12,
     "metadata": {},
     "output_type": "execute_result"
    }
   ],
   "source": [
    "POS_mystem2[:10]"
   ]
  },
  {
   "cell_type": "markdown",
   "metadata": {},
   "source": [
    "As we can see in the results, morpological ambiguity is most common for nouns in objective cases as well as adjectives and participals. The results for the whole text parsing are the same as for the parsing of the separate words which means that Mystem doesn't take context into account to resolve ambiguity. Plus when it comes to interPOS ambiguity Mystems seems to show only one option with the highest probability (see example with \"стали\")."
   ]
  },
  {
   "cell_type": "markdown",
   "metadata": {},
   "source": [
    "### Pymorhpy2\n",
    "\n",
    "- input format: string _(one word only)_\n",
    "- output format: list of pymorphy2.analyzer objects with pos tags + additional grammatical info and lemma\n",
    "- method: pymorphy2.MorphAnalyzer().parse('str')"
   ]
  },
  {
   "cell_type": "code",
   "execution_count": 13,
   "metadata": {
    "collapsed": true
   },
   "outputs": [],
   "source": [
    "morph = pymorphy2.MorphAnalyzer()"
   ]
  },
  {
   "cell_type": "code",
   "execution_count": 14,
   "metadata": {},
   "outputs": [
    {
     "data": {
      "text/plain": [
       "[Parse(word='стали', tag=OpencorporaTag('VERB,perf,intr plur,past,indc'), normal_form='стать', score=0.984662, methods_stack=((<DictionaryAnalyzer>, 'стали', 904, 4),)),\n",
       " Parse(word='стали', tag=OpencorporaTag('NOUN,inan,femn sing,gent'), normal_form='сталь', score=0.003067, methods_stack=((<DictionaryAnalyzer>, 'стали', 13, 1),)),\n",
       " Parse(word='стали', tag=OpencorporaTag('NOUN,inan,femn sing,datv'), normal_form='сталь', score=0.003067, methods_stack=((<DictionaryAnalyzer>, 'стали', 13, 2),)),\n",
       " Parse(word='стали', tag=OpencorporaTag('NOUN,inan,femn sing,loct'), normal_form='сталь', score=0.003067, methods_stack=((<DictionaryAnalyzer>, 'стали', 13, 5),)),\n",
       " Parse(word='стали', tag=OpencorporaTag('NOUN,inan,femn plur,nomn'), normal_form='сталь', score=0.003067, methods_stack=((<DictionaryAnalyzer>, 'стали', 13, 6),)),\n",
       " Parse(word='стали', tag=OpencorporaTag('NOUN,inan,femn plur,accs'), normal_form='сталь', score=0.003067, methods_stack=((<DictionaryAnalyzer>, 'стали', 13, 9),))]"
      ]
     },
     "execution_count": 14,
     "metadata": {},
     "output_type": "execute_result"
    }
   ],
   "source": [
    "#example\n",
    "p = morph.parse('стали')\n",
    "p"
   ]
  },
  {
   "cell_type": "code",
   "execution_count": 15,
   "metadata": {
    "collapsed": true
   },
   "outputs": [],
   "source": [
    "POS_PM2 = []\n",
    "\n",
    "for word in tokenized_text:\n",
    "    POS_PM2.append(morph.parse(word))"
   ]
  },
  {
   "cell_type": "code",
   "execution_count": 16,
   "metadata": {},
   "outputs": [
    {
     "data": {
      "text/plain": [
       "[[Parse(word='мы', tag=OpencorporaTag('NPRO,1per plur,nomn'), normal_form='мы', score=1.0, methods_stack=((<DictionaryAnalyzer>, 'мы', 1990, 0),))],\n",
       " [Parse(word='(', tag=OpencorporaTag('PNCT'), normal_form='(', score=1.0, methods_stack=((<PunctuationAnalyzer>, '('),))],\n",
       " [Parse(word='с', tag=OpencorporaTag('PREP'), normal_form='с', score=0.998363, methods_stack=((<DictionaryAnalyzer>, 'с', 375, 0),)),\n",
       "  Parse(word='с', tag=OpencorporaTag('NOUN,inan,femn,Fixd,Abbr sing,nomn'), normal_form='секунда', score=6.8e-05, methods_stack=((<DictionaryAnalyzer>, 'с', 2747, 13),)),\n",
       "  Parse(word='с', tag=OpencorporaTag('NOUN,inan,femn,Fixd,Abbr sing,gent'), normal_form='секунда', score=6.8e-05, methods_stack=((<DictionaryAnalyzer>, 'с', 2747, 14),)),\n",
       "  Parse(word='с', tag=OpencorporaTag('NOUN,inan,femn,Fixd,Abbr sing,datv'), normal_form='секунда', score=6.8e-05, methods_stack=((<DictionaryAnalyzer>, 'с', 2747, 15),)),\n",
       "  Parse(word='с', tag=OpencorporaTag('NOUN,inan,femn,Fixd,Abbr sing,accs'), normal_form='секунда', score=6.8e-05, methods_stack=((<DictionaryAnalyzer>, 'с', 2747, 16),)),\n",
       "  Parse(word='с', tag=OpencorporaTag('NOUN,inan,femn,Fixd,Abbr sing,ablt'), normal_form='секунда', score=6.8e-05, methods_stack=((<DictionaryAnalyzer>, 'с', 2747, 17),)),\n",
       "  Parse(word='с', tag=OpencorporaTag('NOUN,inan,femn,Fixd,Abbr sing,loct'), normal_form='секунда', score=6.8e-05, methods_stack=((<DictionaryAnalyzer>, 'с', 2747, 18),)),\n",
       "  Parse(word='с', tag=OpencorporaTag('NOUN,inan,femn,Fixd,Abbr plur,nomn'), normal_form='секунда', score=6.8e-05, methods_stack=((<DictionaryAnalyzer>, 'с', 2747, 19),)),\n",
       "  Parse(word='с', tag=OpencorporaTag('NOUN,inan,femn,Fixd,Abbr plur,gent'), normal_form='секунда', score=6.8e-05, methods_stack=((<DictionaryAnalyzer>, 'с', 2747, 20),)),\n",
       "  Parse(word='с', tag=OpencorporaTag('NOUN,inan,femn,Fixd,Abbr plur,datv'), normal_form='секунда', score=6.8e-05, methods_stack=((<DictionaryAnalyzer>, 'с', 2747, 21),)),\n",
       "  Parse(word='с', tag=OpencorporaTag('NOUN,inan,femn,Fixd,Abbr plur,accs'), normal_form='секунда', score=6.8e-05, methods_stack=((<DictionaryAnalyzer>, 'с', 2747, 22),)),\n",
       "  Parse(word='с', tag=OpencorporaTag('NOUN,inan,femn,Fixd,Abbr plur,ablt'), normal_form='секунда', score=6.8e-05, methods_stack=((<DictionaryAnalyzer>, 'с', 2747, 23),)),\n",
       "  Parse(word='с', tag=OpencorporaTag('NOUN,inan,femn,Fixd,Abbr plur,loct'), normal_form='секунда', score=6.8e-05, methods_stack=((<DictionaryAnalyzer>, 'с', 2747, 24),)),\n",
       "  Parse(word='с', tag=OpencorporaTag('NOUN,inan,neut,Fixd,Abbr sing,nomn'), normal_form='село', score=6.8e-05, methods_stack=((<DictionaryAnalyzer>, 'с', 2748, 12),)),\n",
       "  Parse(word='с', tag=OpencorporaTag('NOUN,inan,neut,Fixd,Abbr sing,gent'), normal_form='село', score=6.8e-05, methods_stack=((<DictionaryAnalyzer>, 'с', 2748, 13),)),\n",
       "  Parse(word='с', tag=OpencorporaTag('NOUN,inan,neut,Fixd,Abbr sing,datv'), normal_form='село', score=6.8e-05, methods_stack=((<DictionaryAnalyzer>, 'с', 2748, 14),)),\n",
       "  Parse(word='с', tag=OpencorporaTag('NOUN,inan,neut,Fixd,Abbr sing,accs'), normal_form='село', score=6.8e-05, methods_stack=((<DictionaryAnalyzer>, 'с', 2748, 15),)),\n",
       "  Parse(word='с', tag=OpencorporaTag('NOUN,inan,neut,Fixd,Abbr sing,ablt'), normal_form='село', score=6.8e-05, methods_stack=((<DictionaryAnalyzer>, 'с', 2748, 16),)),\n",
       "  Parse(word='с', tag=OpencorporaTag('NOUN,inan,neut,Fixd,Abbr sing,loct'), normal_form='село', score=6.8e-05, methods_stack=((<DictionaryAnalyzer>, 'с', 2748, 17),)),\n",
       "  Parse(word='с', tag=OpencorporaTag('NOUN,inan,neut,Fixd,Abbr plur,nomn'), normal_form='село', score=6.8e-05, methods_stack=((<DictionaryAnalyzer>, 'с', 2748, 18),)),\n",
       "  Parse(word='с', tag=OpencorporaTag('NOUN,inan,neut,Fixd,Abbr plur,gent'), normal_form='село', score=6.8e-05, methods_stack=((<DictionaryAnalyzer>, 'с', 2748, 19),)),\n",
       "  Parse(word='с', tag=OpencorporaTag('NOUN,inan,neut,Fixd,Abbr plur,datv'), normal_form='село', score=6.8e-05, methods_stack=((<DictionaryAnalyzer>, 'с', 2748, 20),)),\n",
       "  Parse(word='с', tag=OpencorporaTag('NOUN,inan,neut,Fixd,Abbr plur,accs'), normal_form='село', score=6.8e-05, methods_stack=((<DictionaryAnalyzer>, 'с', 2748, 21),)),\n",
       "  Parse(word='с', tag=OpencorporaTag('NOUN,inan,neut,Fixd,Abbr plur,ablt'), normal_form='село', score=6.8e-05, methods_stack=((<DictionaryAnalyzer>, 'с', 2748, 22),)),\n",
       "  Parse(word='с', tag=OpencorporaTag('NOUN,inan,neut,Fixd,Abbr plur,loct'), normal_form='село', score=6.8e-05, methods_stack=((<DictionaryAnalyzer>, 'с', 2748, 23),))],\n",
       " [Parse(word='некоторой', tag=OpencorporaTag('ADJF,Apro femn,sing,datv'), normal_form='некоторый', score=0.4, methods_stack=((<DictionaryAnalyzer>, 'некоторой', 1245, 9),)),\n",
       "  Parse(word='некоторой', tag=OpencorporaTag('ADJF,Apro femn,sing,gent'), normal_form='некоторый', score=0.2, methods_stack=((<DictionaryAnalyzer>, 'некоторой', 1245, 8),)),\n",
       "  Parse(word='некоторой', tag=OpencorporaTag('ADJF,Apro femn,sing,ablt'), normal_form='некоторый', score=0.2, methods_stack=((<DictionaryAnalyzer>, 'некоторой', 1245, 11),)),\n",
       "  Parse(word='некоторой', tag=OpencorporaTag('ADJF,Apro femn,sing,loct'), normal_form='некоторый', score=0.2, methods_stack=((<DictionaryAnalyzer>, 'некоторой', 1245, 12),))],\n",
       " [Parse(word='задержкой', tag=OpencorporaTag('NOUN,inan,femn sing,ablt'), normal_form='задержка', score=1.0, methods_stack=((<DictionaryAnalyzer>, 'задержкой', 9, 4),))]]"
      ]
     },
     "execution_count": 16,
     "metadata": {},
     "output_type": "execute_result"
    }
   ],
   "source": [
    "POS_PM2[:5]"
   ]
  },
  {
   "cell_type": "markdown",
   "metadata": {},
   "source": [
    "Pymorhpy2 shows great results in showing of all the possible interpretations of the wordform but again since it is dictionary-based it has no tool for morphological disambiguation."
   ]
  },
  {
   "cell_type": "markdown",
   "metadata": {},
   "source": [
    "### nltk.tag\n",
    "\n",
    "- input format: list of strings\n",
    "- output format: list of tuples ('wordform', 'POStag') \n",
    "- method: tnt.TnT().tag() after training on a tagged corpus"
   ]
  },
  {
   "cell_type": "code",
   "execution_count": 17,
   "metadata": {},
   "outputs": [
    {
     "name": "stdout",
     "output_type": "stream",
     "text": [
      "30000\n",
      "8508\n"
     ]
    }
   ],
   "source": [
    "train_file = 'unamb_sent_14_6.conllu'\n",
    "train_reader = ConllCorpusReader(root = '', fileids = [train_file], columntypes = ['ignore', 'words', 'ignore', 'pos', 'chunk'])\n",
    "\n",
    "\n",
    "sents = list(train_reader.iob_sents())\n",
    "train_sents = sents[:30000]\n",
    "test_sents = sents[30000:]\n",
    "\n",
    "print(len(train_sents))\n",
    "print(len(test_sents))"
   ]
  },
  {
   "cell_type": "code",
   "execution_count": 18,
   "metadata": {},
   "outputs": [
    {
     "data": {
      "text/plain": [
       "[('Сохранится', 'VERB', '_'),\n",
       " ('ли', 'PART', '_'),\n",
       " ('градус', 'NOUN', '_'),\n",
       " ('дискуссии', 'NOUN', '_'),\n",
       " ('в', 'ADP', '_'),\n",
       " ('новом', 'ADJ', '_'),\n",
       " ('сезоне', 'NOUN', '_'),\n",
       " ('?', 'PUNCT', '_')]"
      ]
     },
     "execution_count": 18,
     "metadata": {},
     "output_type": "execute_result"
    }
   ],
   "source": [
    "train_sents[1]"
   ]
  },
  {
   "cell_type": "code",
   "execution_count": 19,
   "metadata": {},
   "outputs": [
    {
     "name": "stdout",
     "output_type": "stream",
     "text": [
      "[('Письмо', 'NOUN'), ('восьмое', 'ADJ'), ('посвящено', 'ADJ'), ('правилам', 'NOUN'), (',', 'PUNCT'), ('благоприятным', 'ADJ'), ('для', 'ADP'), ('всевозможных', 'ADJ'), ('грешников', 'NOUN'), (':', 'PUNCT'), ('воров', 'NOUN'), (',', 'PUNCT'), ('банкротов', 'NOUN'), (',', 'PUNCT'), ('нечестных', 'ADJ'), ('судей', 'NOUN'), (',', 'PUNCT'), ('распутных', 'ADJ'), ('женщин', 'NOUN'), ('.', 'PUNCT')]\n",
      "[('Письмо', 'NOUN'), ('восьмое', 'ADJ'), ('посвящено', 'ADJ'), ('правилам', 'NOUN'), (',', 'PUNCT'), ('благоприятным', 'ADJ'), ('для', 'ADP'), ('всевозможных', 'ADJ'), ('грешников', 'NOUN'), (':', 'PUNCT'), ('воров', 'NOUN'), (',', 'PUNCT'), ('банкротов', 'NOUN'), (',', 'PUNCT'), ('нечестных', 'ADJ'), ('судей', 'NOUN'), (',', 'PUNCT'), ('распутных', 'ADJ'), ('женщин', 'NOUN'), ('.', 'PUNCT')]\n"
     ]
    }
   ],
   "source": [
    "from nltk.tag import tnt\n",
    "\n",
    "test_sents_1 = []\n",
    "for sent in test_sents:\n",
    "    sent_1 = []\n",
    "    for word in sent:\n",
    "        sent_1.append(word[:2])\n",
    "    test_sents_1.append(sent_1)\n",
    "print(test_sents_1[0])\n",
    "\n",
    "train_sents_1 = []\n",
    "for sent in test_sents:\n",
    "    sent_1 = []\n",
    "    for word in sent:\n",
    "        sent_1.append(word[:2])\n",
    "    train_sents_1.append(sent_1)\n",
    "print(test_sents_1[0])"
   ]
  },
  {
   "cell_type": "code",
   "execution_count": 21,
   "metadata": {},
   "outputs": [
    {
     "data": {
      "text/plain": [
       "0.9953090882497362"
      ]
     },
     "execution_count": 21,
     "metadata": {},
     "output_type": "execute_result"
    }
   ],
   "source": [
    "tnt_pos_tagger = tnt.TnT()\n",
    "tnt_pos_tagger.train(train_sents_1)\n",
    "tnt_pos_tagger.evaluate(test_sents_1)"
   ]
  },
  {
   "cell_type": "code",
   "execution_count": 24,
   "metadata": {
    "scrolled": true
   },
   "outputs": [
    {
     "name": "stdout",
     "output_type": "stream",
     "text": [
      "CPU times: user 0 ns, sys: 0 ns, total: 0 ns\n",
      "Wall time: 13.4 µs\n"
     ]
    }
   ],
   "source": [
    "%time\n",
    "POS_NLTK = tnt_pos_tagger.tag(tokenized_text[:500])"
   ]
  },
  {
   "cell_type": "code",
   "execution_count": 26,
   "metadata": {},
   "outputs": [
    {
     "name": "stdout",
     "output_type": "stream",
     "text": [
      "[('мы', 'PRON'), ('(', 'PUNCT'), ('с', 'ADP'), ('некоторой', 'DET'), ('задержкой', 'Unk'), (',', 'PUNCT'), ('вызванной', 'Unk'), ('техническими', 'ADJ'), ('обстоятельствами', 'Unk'), (')', 'PUNCT'), ('публикуем', 'Unk'), ('полную', 'ADJ'), ('стенограмму', 'Unk'), ('лекции', 'Unk'), ('историка', 'Unk'), ('алексея', 'Unk'), ('миллера', 'Unk'), (',', 'PUNCT'), ('прочитанной', 'Unk'), ('31', 'NUM'), ('марта', 'NOUN'), ('2005', 'NUM'), ('года', 'NOUN'), ('в', 'ADP'), ('клубе-литературном', 'Unk'), ('кафе', 'NOUN'), ('bilingua', 'Unk'), ('в', 'ADP'), ('рамках', 'NOUN'), ('проекта', 'NOUN'), ('«', 'PUNCT'), ('публичные', 'Unk'), ('лекции', 'Unk'), ('полит.ру', 'Unk'), ('»', 'PUNCT'), ('.лекция', 'Unk'), ('алексея', 'Unk'), ('миллера', 'Unk'), ('–', 'PUNCT'), ('это', 'PART'), ('результат', 'NOUN'), ('ясного', 'Unk'), ('и', 'CONJ'), ('научно', 'Unk'), ('отстраненного', 'Unk'), ('анализа', 'NOUN'), ('тем', 'Unk'), (',', 'PUNCT'), ('которые', 'DET'), ('почти', 'Unk'), ('никогда', 'ADV'), ('в', 'ADP'), ('русском', 'ADJ'), ('обществе', 'NOUN'), ('не', 'PART'), ('обсуждались', 'VERB'), ('спокойно', 'ADV'), (',', 'PUNCT'), ('без', 'ADP'), ('острого', 'Unk'), ('желания', 'Unk'), ('набить', 'Unk'), ('друг', 'NOUN'), ('другу', 'NOUN'), ('морды', 'Unk'), (',', 'PUNCT'), ('что', 'CONJ'), ('отчасти', 'ADV'), ('проявилось', 'VERB'), ('и', 'CONJ'), ('в', 'ADP'), ('обсуждении.', 'Unk'), ('речь', 'NOUN'), ('идет', 'VERB'), ('об', 'ADP'), ('идеологиях', 'Unk'), ('русской', 'ADJ'), ('нации', 'NOUN'), ('и', 'CONJ'), ('российской', 'ADJ'), ('империи.', 'Unk'), ('национальные', 'ADJ'), ('проекты', 'NOUN'), ('нового', 'ADJ'), ('времени', 'NOUN'), ('рассматривается', 'VERB'), ('автором', 'NOUN'), ('именно', 'PART'), ('как', 'CONJ'), ('проекты', 'NOUN'), (',', 'PUNCT'), ('в', 'ADP'), ('смысле', 'NOUN'), ('идейных', 'Unk'), ('конструкций', 'NOUN'), (',', 'PUNCT'), ('авторство', 'Unk'), ('которых', 'DET'), ('в', 'ADP'), ('данной', 'Unk'), ('культуре', 'NOUN'), ('можно', 'ADV'), ('определить', 'VERB'), ('политически', 'ADV'), ('и', 'CONJ'), ('даже', 'PART'), ('поименно', 'Unk'), (',', 'PUNCT'), ('увидеть', 'VERB'), ('удачи', 'Unk'), ('и', 'CONJ'), ('неудачи', 'Unk'), (',', 'PUNCT'), ('трудности', 'Unk'), ('и', 'CONJ'), ('ограничения', 'NOUN'), ('их', 'PRON'), ('исполнения', 'Unk'), ('социальном', 'Unk'), ('и', 'CONJ'), ('историческом', 'ADJ'), ('материале.', 'Unk'), ('«', 'PUNCT'), ('вообще', 'Unk'), ('историки', 'Unk'), ('в', 'ADP'), ('основной', 'ADJ'), ('своей', 'DET'), ('массе', 'NOUN'), ('обслуживают', 'Unk'), ('национальные', 'ADJ'), ('проекты…есть', 'Unk'), ('такое', 'DET'), ('определение', 'NOUN'), (',', 'PUNCT'), ('что', 'CONJ'), ('нация', 'Unk'), ('—', 'PUNCT'), ('это', 'PART'), ('согласие', 'NOUN'), ('в', 'ADP'), ('общем', 'ADJ'), ('заблуждении', 'Unk'), ('по', 'ADP'), ('поводу', 'NOUN'), ('своего', 'DET'), ('исторического', 'ADJ'), ('прошлого.', 'Unk'), ('это', 'PART'), ('доминирует', 'Unk'), ('в', 'ADP'), ('xix', 'Unk'), ('веке', 'NOUN'), (',', 'PUNCT'), ('это', 'PART'), ('доминирует', 'Unk'), ('в', 'ADP'), ('хх', 'Unk'), (',', 'PUNCT'), ('и', 'CONJ'), ('мне', 'PRON'), ('этот', 'DET'), ('жанр', 'NOUN'), ('очень', 'ADV'), ('не', 'PART'), ('нравится.', 'Unk'), ('я', 'PRON'), ('думаю', 'VERB'), (',', 'PUNCT'), ('что', 'CONJ'), ('на', 'ADP'), ('самом', 'Unk'), ('деле', 'NOUN'), ('история', 'NOUN'), ('ничего', 'Unk'), ('не', 'PART'), ('доказывает', 'VERB'), ('и', 'CONJ'), ('ничего', 'Unk'), ('не', 'PART'), ('определяет.', 'Unk'), ('я', 'PRON'), ('говорил', 'VERB'), (',', 'PUNCT'), ('что', 'CONJ'), ('был', 'VERB'), ('проект', 'NOUN'), (',', 'PUNCT'), ('в', 'ADP'), ('рамках', 'NOUN'), ('которого', 'DET'), ('белорусы', 'Unk'), (',', 'PUNCT'), ('малороссы', 'Unk'), ('и', 'CONJ'), ('великороссы', 'Unk'), ('могли', 'VERB'), ('стать', 'VERB'), ('единой', 'ADJ'), ('нацией', 'Unk'), (',', 'PUNCT'), ('—', 'PUNCT'), ('да', 'CONJ'), (',', 'PUNCT'), ('могли.', 'Unk'), ('почему', 'ADV'), ('не', 'PART'), ('получилось', 'VERB'), ('?', 'PUNCT'), ('—', 'PUNCT'), ('отдельный', 'Unk'), ('большой', 'ADJ'), ('разговор.', 'Unk'), ('но', 'CONJ'), ('с', 'ADP'), ('историей', 'Unk'), (',', 'PUNCT'), ('давней', 'Unk'), ('историей', 'Unk'), ('это', 'PART'), ('связано', 'ADJ'), ('очень', 'ADV'), ('слабо.', 'Unk'), ('эти', 'DET'), ('вопросы', 'NOUN'), ('решались', 'Unk'), ('в', 'ADP'), ('xix', 'Unk'), ('и', 'CONJ'), ('хх', 'Unk'), ('веках', 'NOUN'), ('»', 'PUNCT'), ('.', 'PUNCT'), ('алексей', 'Unk'), ('миллер', 'Unk'), (':', 'PUNCT'), ('я', 'PRON'), ('историк', 'Unk'), (',', 'PUNCT'), ('и', 'CONJ'), ('выступать', 'VERB'), ('буду', 'VERB'), ('именно', 'PART'), ('в', 'ADP'), ('этом', 'PRON'), ('качестве.', 'Unk'), ('это', 'PART'), (',', 'PUNCT'), ('в', 'ADP'), ('частности', 'NOUN'), (',', 'PUNCT'), ('значит', 'CONJ'), (',', 'PUNCT'), ('что', 'CONJ'), ('любимый', 'Unk'), ('вопрос', 'NOUN'), ('виталия', 'Unk'), ('лейбина', 'Unk'), (',', 'PUNCT'), ('с', 'ADP'), ('которого', 'DET'), ('здесь', 'ADV'), ('начинаются', 'VERB'), ('многие', 'PRON'), ('дискуссии', 'Unk'), ('–', 'PUNCT'), ('а', 'CONJ'), ('в', 'ADP'), ('чем', 'PRON'), ('прагматика', 'Unk'), ('?', 'PUNCT'), ('–', 'PUNCT'), ('в', 'ADP'), ('данном', 'Unk'), ('случае', 'NOUN'), ('неуместен.', 'Unk'), ('история', 'NOUN'), ('не', 'PART'), ('дает', 'VERB'), ('прямых', 'ADJ'), ('ответов', 'NOUN'), ('на', 'ADP'), ('злободневные', 'Unk'), ('вопросы', 'NOUN'), (',', 'PUNCT'), ('и', 'CONJ'), ('не', 'PART'), ('может', 'VERB'), ('служить', 'VERB'), ('оправданием', 'Unk'), ('той', 'DET'), ('или', 'CONJ'), ('иной', 'DET'), ('политики.', 'Unk'), ('я', 'PRON'), ('сначала', 'ADV'), ('скажу', 'Unk'), ('о', 'ADP'), ('тех', 'DET'), ('работах', 'NOUN'), ('по', 'ADP'), ('теме', 'NOUN'), ('сегодняшнего', 'Unk'), ('разговора', 'NOUN'), (',', 'PUNCT'), ('которые', 'DET'), ('доступны', 'ADJ'), ('на', 'ADP'), ('русском', 'ADJ'), (',', 'PUNCT'), ('затем', 'ADV'), ('объясню', 'Unk'), (',', 'PUNCT'), ('что', 'CONJ'), ('и', 'CONJ'), ('почему', 'ADV'), ('мне', 'PRON'), ('в', 'ADP'), ('них', 'PRON'), ('не', 'PART'), ('нравится.', 'Unk'), ('затем', 'ADV'), ('я', 'PRON'), ('объясню', 'Unk'), (',', 'PUNCT'), ('почему', 'ADV'), ('именно', 'PART'), ('период', 'NOUN'), ('империи', 'NOUN'), ('кажется', 'VERB'), ('мне', 'PRON'), ('наиболее', 'ADV'), ('подходящим', 'Unk'), ('для', 'ADP'), ('рассмотрения', 'NOUN'), ('данной', 'Unk'), ('темы', 'NOUN'), (',', 'PUNCT'), ('и', 'CONJ'), ('затем', 'ADV'), (',', 'PUNCT'), ('в', 'ADP'), ('зависимости', 'NOUN'), ('от', 'ADP'), ('того', 'DET'), (',', 'PUNCT'), ('сколько', 'Unk'), ('времени', 'NOUN'), ('нам', 'PRON'), ('останется', 'Unk'), (',', 'PUNCT'), ('попробую', 'Unk'), ('проиллюстрировать', 'Unk'), ('свои', 'DET'), ('аргументы', 'Unk'), ('конкретными', 'Unk'), ('примерами.итак', 'Unk'), (',', 'PUNCT'), ('какие', 'DET'), ('имена', 'NOUN'), ('приходят', 'VERB'), ('на', 'ADP'), ('ум', 'NOUN'), ('из', 'ADP'), ('того', 'DET'), (',', 'PUNCT'), ('что', 'CONJ'), ('опубликовано.', 'Unk'), ('это', 'PART'), ('бенедикт', 'Unk'), ('андерсон', 'Unk'), ('—', 'PUNCT'), ('известная', 'ADJ'), ('книга', 'NOUN'), ('“', 'PUNCT'), ('воображенные', 'Unk'), ('сообщества', 'NOUN'), ('”', 'PUNCT'), (':', 'PUNCT'), ('именно', 'PART'), ('так', 'ADV'), ('он', 'PRON'), ('определяет', 'VERB'), ('нацию', 'Unk'), ('(', 'PUNCT'), ('и', 'CONJ'), ('я', 'PRON'), ('думаю', 'VERB'), (',', 'PUNCT'), ('что', 'CONJ'), ('совершенно', 'ADV'), ('справедливо', 'Unk'), (')', 'PUNCT'), ('.', 'PUNCT'), ('это', 'PART'), ('эрнест', 'Unk'), ('геллнер', 'Unk'), (',', 'PUNCT'), ('также', 'PART'), ('исторический', 'ADJ'), ('социолог', 'NOUN'), (',', 'PUNCT'), ('—', 'PUNCT'), ('его', 'PRON'), ('книга', 'NOUN'), ('“', 'PUNCT'), ('нация', 'Unk'), ('и', 'CONJ'), ('национализм', 'Unk'), ('”', 'PUNCT'), (';', 'PUNCT'), ('андреас', 'Unk'), ('капеллер', 'Unk'), (',', 'PUNCT'), ('историк', 'Unk'), (',', 'PUNCT'), ('который', 'DET'), ('написал', 'VERB'), ('книгу', 'NOUN'), ('“', 'PUNCT'), ('российская', 'ADJ'), ('империя', 'Unk'), ('как', 'CONJ'), ('многонациональное', 'Unk'), ('государство', 'NOUN'), ('”', 'PUNCT'), ('.', 'PUNCT'), ('также', 'PART'), ('есть', 'VERB'), ('джеффри', 'Unk'), ('хоскинг', 'Unk'), (',', 'PUNCT'), ('английский', 'Unk'), ('историк', 'Unk'), (',', 'PUNCT'), ('который', 'DET'), ('написал', 'VERB'), ('книгу', 'NOUN'), ('“', 'PUNCT'), ('россия', 'Unk'), (':', 'PUNCT'), ('империя', 'Unk'), ('и', 'CONJ'), ('народ', 'NOUN'), ('”', 'PUNCT'), ('.', 'PUNCT'), ('это', 'PART'), ('все', 'Unk'), ('работы', 'NOUN'), (',', 'PUNCT'), ('которые', 'DET'), ('переведены', 'ADJ'), ('на', 'ADP'), ('русский', 'ADJ'), ('язык.', 'Unk'), ('у', 'ADP'), ('нас', 'PRON'), ('опубликовано', 'Unk'), ('совсем', 'ADV'), ('немного', 'ADV'), ('оригинальных', 'ADJ'), ('книг', 'NOUN'), ('по', 'ADP'), ('этой', 'DET'), ('теме.', 'Unk'), ('еще', 'Unk'), ('я', 'PRON'), ('упомяну', 'Unk'), ('известную', 'Unk'), ('книгу', 'NOUN'), ('бориса', 'Unk'), ('николаевича', 'Unk'), ('миронова', 'Unk'), (',', 'PUNCT'), ('двухтомник', 'Unk'), (',', 'PUNCT'), ('“', 'PUNCT'), ('социальная', 'ADJ'), ('история', 'NOUN'), ('россии', 'PROPN'), ('периода', 'NOUN'), ('империи', 'NOUN'), ('”', 'PUNCT'), ('—', 'PUNCT'), ('она', 'PRON'), ('не', 'PART'), ('про', 'ADP'), ('это', 'PART'), (',', 'PUNCT'), ('но', 'CONJ'), ('она', 'PRON'), ('интересна', 'Unk'), ('тем', 'Unk'), (',', 'PUNCT'), ('каким', 'DET'), ('образом', 'NOUN'), ('она', 'PRON'), ('не', 'PART'), ('про', 'ADP'), ('это.возьмем', 'Unk')]\n"
     ]
    }
   ],
   "source": [
    "print(POS_NLTK)"
   ]
  },
  {
   "cell_type": "code",
   "execution_count": 39,
   "metadata": {
    "collapsed": true
   },
   "outputs": [],
   "source": [
    "unk = []\n",
    "\n",
    "for tag in POS_NLTK:\n",
    "    if tag[1] == 'Unk':\n",
    "        unk.append(tag)\n",
    "    else:\n",
    "        continue"
   ]
  },
  {
   "cell_type": "code",
   "execution_count": 41,
   "metadata": {},
   "outputs": [
    {
     "name": "stdout",
     "output_type": "stream",
     "text": [
      "133 \n",
      " [('задержкой', 'Unk'), ('вызванной', 'Unk'), ('обстоятельствами', 'Unk'), ('публикуем', 'Unk'), ('стенограмму', 'Unk'), ('лекции', 'Unk'), ('историка', 'Unk'), ('алексея', 'Unk'), ('миллера', 'Unk'), ('прочитанной', 'Unk'), ('клубе-литературном', 'Unk'), ('bilingua', 'Unk'), ('публичные', 'Unk'), ('лекции', 'Unk'), ('полит.ру', 'Unk'), ('.лекция', 'Unk'), ('алексея', 'Unk'), ('миллера', 'Unk'), ('ясного', 'Unk'), ('научно', 'Unk'), ('отстраненного', 'Unk'), ('тем', 'Unk'), ('почти', 'Unk'), ('острого', 'Unk'), ('желания', 'Unk'), ('набить', 'Unk'), ('морды', 'Unk'), ('обсуждении.', 'Unk'), ('идеологиях', 'Unk'), ('империи.', 'Unk'), ('идейных', 'Unk'), ('авторство', 'Unk'), ('данной', 'Unk'), ('поименно', 'Unk'), ('удачи', 'Unk'), ('неудачи', 'Unk'), ('трудности', 'Unk'), ('исполнения', 'Unk'), ('социальном', 'Unk'), ('материале.', 'Unk'), ('вообще', 'Unk'), ('историки', 'Unk'), ('обслуживают', 'Unk'), ('проекты…есть', 'Unk'), ('нация', 'Unk'), ('заблуждении', 'Unk'), ('прошлого.', 'Unk'), ('доминирует', 'Unk'), ('xix', 'Unk'), ('доминирует', 'Unk'), ('хх', 'Unk'), ('нравится.', 'Unk'), ('самом', 'Unk'), ('ничего', 'Unk'), ('ничего', 'Unk'), ('определяет.', 'Unk'), ('белорусы', 'Unk'), ('малороссы', 'Unk'), ('великороссы', 'Unk'), ('нацией', 'Unk'), ('могли.', 'Unk'), ('отдельный', 'Unk'), ('разговор.', 'Unk'), ('историей', 'Unk'), ('давней', 'Unk'), ('историей', 'Unk'), ('слабо.', 'Unk'), ('решались', 'Unk'), ('xix', 'Unk'), ('хх', 'Unk'), ('алексей', 'Unk'), ('миллер', 'Unk'), ('историк', 'Unk'), ('качестве.', 'Unk'), ('любимый', 'Unk'), ('виталия', 'Unk'), ('лейбина', 'Unk'), ('дискуссии', 'Unk'), ('прагматика', 'Unk'), ('данном', 'Unk'), ('неуместен.', 'Unk'), ('злободневные', 'Unk'), ('оправданием', 'Unk'), ('политики.', 'Unk'), ('скажу', 'Unk'), ('сегодняшнего', 'Unk'), ('объясню', 'Unk'), ('нравится.', 'Unk'), ('объясню', 'Unk'), ('подходящим', 'Unk'), ('данной', 'Unk'), ('сколько', 'Unk'), ('останется', 'Unk'), ('попробую', 'Unk'), ('проиллюстрировать', 'Unk'), ('аргументы', 'Unk'), ('конкретными', 'Unk'), ('примерами.итак', 'Unk'), ('опубликовано.', 'Unk'), ('бенедикт', 'Unk'), ('андерсон', 'Unk'), ('воображенные', 'Unk'), ('нацию', 'Unk'), ('справедливо', 'Unk'), ('эрнест', 'Unk'), ('геллнер', 'Unk'), ('нация', 'Unk'), ('национализм', 'Unk'), ('андреас', 'Unk'), ('капеллер', 'Unk'), ('историк', 'Unk'), ('империя', 'Unk'), ('многонациональное', 'Unk'), ('джеффри', 'Unk'), ('хоскинг', 'Unk'), ('английский', 'Unk'), ('историк', 'Unk'), ('россия', 'Unk'), ('империя', 'Unk'), ('все', 'Unk'), ('язык.', 'Unk'), ('опубликовано', 'Unk'), ('теме.', 'Unk'), ('еще', 'Unk'), ('упомяну', 'Unk'), ('известную', 'Unk'), ('бориса', 'Unk'), ('николаевича', 'Unk'), ('миронова', 'Unk'), ('двухтомник', 'Unk'), ('интересна', 'Unk'), ('тем', 'Unk'), ('это.возьмем', 'Unk')]\n"
     ]
    }
   ],
   "source": [
    "print(len(unk), '\\n', unk)"
   ]
  },
  {
   "cell_type": "code",
   "execution_count": 36,
   "metadata": {
    "collapsed": true
   },
   "outputs": [],
   "source": [
    "b = tnt_pos_tagger.tag(['стали'])"
   ]
  },
  {
   "cell_type": "code",
   "execution_count": 37,
   "metadata": {},
   "outputs": [
    {
     "data": {
      "text/plain": [
       "[('стали', 'VERB')]"
      ]
     },
     "execution_count": 37,
     "metadata": {},
     "output_type": "execute_result"
    }
   ],
   "source": [
    "b"
   ]
  },
  {
   "cell_type": "markdown",
   "metadata": {},
   "source": [
    "The results show precise POS-tagging but quite a few words are left untagged (133 out of 500; though most of them present named enities and junk, such frequent words as \"никогда\" or \"могли\" are also marked as unknown). So the quality of POS-tagging depends on the trainig corpus size."
   ]
  },
  {
   "cell_type": "code",
   "execution_count": null,
   "metadata": {
    "collapsed": true
   },
   "outputs": [],
   "source": []
  }
 ],
 "metadata": {
  "kernelspec": {
   "display_name": "Python 3",
   "language": "python",
   "name": "python3"
  },
  "language_info": {
   "codemirror_mode": {
    "name": "ipython",
    "version": 3
   },
   "file_extension": ".py",
   "mimetype": "text/x-python",
   "name": "python",
   "nbconvert_exporter": "python",
   "pygments_lexer": "ipython3",
   "version": "3.6.2"
  }
 },
 "nbformat": 4,
 "nbformat_minor": 2
}
