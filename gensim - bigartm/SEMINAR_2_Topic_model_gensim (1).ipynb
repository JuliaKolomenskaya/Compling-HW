{
 "cells": [
  {
   "cell_type": "code",
   "execution_count": 154,
   "metadata": {},
   "outputs": [],
   "source": [
    "import gensim\n",
    "import json\n",
    "import re\n",
    "from nltk.tokenize import word_tokenize\n",
    "from pymorphy2 import MorphAnalyzer\n",
    "import pyLDAvis.gensim \n",
    "from tqdm import tqdm\n",
    "import numpy as np\n",
    "\n",
    "morph = MorphAnalyzer()"
   ]
  },
  {
   "cell_type": "markdown",
   "metadata": {},
   "source": [
    "## Домашнее задание"
   ]
  },
  {
   "cell_type": "markdown",
   "metadata": {},
   "source": [
    "### 1) сделайте нормализацию (если pymorphy2 работает долго используйте mystem или попробуйте установить быструю версию - pip install pymorphy2[fast], можно использовать какой-то другой токенизатор);"
   ]
  },
  {
   "cell_type": "code",
   "execution_count": 87,
   "metadata": {},
   "outputs": [],
   "source": [
    "def remove_tags(text): #удаляем тэги\n",
    "    return re.sub(r'<[^>]+>', '', text)\n",
    "\n",
    "def get_words(list_of_texts): #токенизируем\n",
    "    word = re.compile(r'[А-яё]{2,}|[A-z]{2,}')\n",
    "    processed_texts = []\n",
    "\n",
    "    for text in list_of_texts:\n",
    "        text = text.lower()\n",
    "        processed_texts.append(word.findall(text))\n",
    "    return processed_texts\n",
    "    \n",
    "\n",
    "def clean(words): #нормализуем\n",
    "    clean = [morph.parse(word)[0].normal_form for word in words]\n",
    "    return clean\n"
   ]
  },
  {
   "cell_type": "code",
   "execution_count": 88,
   "metadata": {},
   "outputs": [],
   "source": [
    "texts = open('habr_texts.txt').read().splitlines()"
   ]
  },
  {
   "cell_type": "code",
   "execution_count": 100,
   "metadata": {},
   "outputs": [],
   "source": [
    "no_tags = [remove_tags(text) for text in texts]"
   ]
  },
  {
   "cell_type": "code",
   "execution_count": 101,
   "metadata": {},
   "outputs": [],
   "source": [
    "words = get_words(no_tags)"
   ]
  },
  {
   "cell_type": "code",
   "execution_count": 108,
   "metadata": {},
   "outputs": [
    {
     "name": "stderr",
     "output_type": "stream",
     "text": [
      "100%|██████████| 4121/4121 [12:06<00:00,  5.67it/s]\n"
     ]
    }
   ],
   "source": [
    "normalized_words = []\n",
    "lemmas = []\n",
    "\n",
    "for text in tqdm(words):\n",
    "    for word in text:\n",
    "        lemmas.append(morph.parse(word)[0].normal_form)\n",
    "    normalized_words.append(lemmas)\n",
    "    lemmas = []"
   ]
  },
  {
   "cell_type": "code",
   "execution_count": 113,
   "metadata": {},
   "outputs": [
    {
     "name": "stdout",
     "output_type": "stream",
     "text": [
      "['команда', 'стоять', 'исток', 'iaas', 'провайдер', 'cloud', 'иметь', 'многолетний', 'опыт', 'управление', 'поддержка', 'ит', 'инфраструктура', 'мы', 'удаться', 'поработать', 'самый', 'различный', 'технология', 'автоматизация', 'иметь', 'отношение', 'тот', 'число', 'деятельность', 'сотовый', 'оператор', 'помимо', 'технологический', 'составлять', 'есть', 'человеческий', 'фактор', 'опыт', 'взаимодействие', 'клиент', 'который', 'мочь', 'быть', 'как']\n"
     ]
    }
   ],
   "source": [
    "print(normalized_words[20][:40])"
   ]
  },
  {
   "cell_type": "markdown",
   "metadata": {},
   "source": [
    "### 2) добавьте н-граммы (в тетрадке есть закомменченая ячейка с Phrases);"
   ]
  },
  {
   "cell_type": "code",
   "execution_count": 112,
   "metadata": {},
   "outputs": [],
   "source": [
    "# для нграммов\n",
    "ph = gensim.models.Phrases(normalized_words, scoring='npmi', threshold=0.4) # threshold можно подбирать\n",
    "p = gensim.models.phrases.Phraser(ph)\n",
    "ngrammed_texts = p[normalized_words]"
   ]
  },
  {
   "cell_type": "markdown",
   "metadata": {},
   "source": [
    "### 3) сделайте хороший словарь (отфильтруйте слишком частотные и редкие слова, попробуйте удалить стоп-слова);"
   ]
  },
  {
   "cell_type": "code",
   "execution_count": 142,
   "metadata": {},
   "outputs": [],
   "source": [
    "from stop_words import get_stop_words\n",
    "\n",
    "STW = get_stop_words('russian')\n",
    "new = ['это', 'который', 'один', 'что', 'мой', 'свой']\n",
    "SW = STW + new"
   ]
  },
  {
   "cell_type": "code",
   "execution_count": 146,
   "metadata": {},
   "outputs": [],
   "source": [
    "no_stop_words = [] #удаляем стоп-слова\n",
    "for text in normalized_words:\n",
    "    no_stop_words.append([word for word in text if word not in SW])"
   ]
  },
  {
   "cell_type": "code",
   "execution_count": 147,
   "metadata": {},
   "outputs": [
    {
     "name": "stdout",
     "output_type": "stream",
     "text": [
      "['буквально', 'статья', 'большинство', 'голос', 'решить', 'начать', 'серия', 'урок', 'создание', 'аналог', 'нативный', 'приложение', 'написать', 'android', 'java', 'помощь', 'фреймворка', 'kivy', 'python', 'рассмотреть', 'создание', 'компоновка', 'контроллов', 'виджет', 'углублённый', 'исследование', 'техника', 'разметка', 'пользовательский', 'интерфейс']\n"
     ]
    }
   ],
   "source": [
    "print(no_stop_words[87][:30])"
   ]
  },
  {
   "cell_type": "code",
   "execution_count": 148,
   "metadata": {},
   "outputs": [],
   "source": [
    "dictinary = gensim.corpora.Dictionary(no_stop_words)"
   ]
  },
  {
   "cell_type": "code",
   "execution_count": 149,
   "metadata": {},
   "outputs": [],
   "source": [
    "dictinary.filter_extremes(no_above=0.3, no_below=30)\n",
    "dictinary.compactify()"
   ]
  },
  {
   "cell_type": "code",
   "execution_count": 199,
   "metadata": {},
   "outputs": [
    {
     "name": "stdout",
     "output_type": "stream",
     "text": [
      "Dictionary(7606 unique tokens: ['address', 'api', 'architecture', 'assembly', 'async']...)\n"
     ]
    }
   ],
   "source": [
    "print(dictinary)"
   ]
  },
  {
   "cell_type": "markdown",
   "metadata": {},
   "source": [
    "### 4) постройте несколько LDA моделей (переберите количество тем, можете поменять eta, alpha, passes), если получаются плохие темы, поработайте дополнительно над предобработкой и словарем;"
   ]
  },
  {
   "cell_type": "code",
   "execution_count": 200,
   "metadata": {},
   "outputs": [],
   "source": [
    "corpus = [dictinary.doc2bow(text) for text in no_stop_words]\n",
    "# если текстов много, то тут может быть генератор"
   ]
  },
  {
   "cell_type": "code",
   "execution_count": 187,
   "metadata": {},
   "outputs": [],
   "source": [
    "lda = gensim.models.LdaMulticore(corpus, 100,\n",
    "                                 id2word=dictinary,\n",
    "                                 passes=10,\n",
    "                                 #alpha = 'asymmetric',\n",
    "                                 eta = 0.5\n",
    "                                )\n",
    "\n",
    "\n",
    "# если поддерживается многопоточность\n",
    "# lsi = gensim.models.LdaModel(200, id2word=dictinary, passes=5)"
   ]
  },
  {
   "cell_type": "code",
   "execution_count": 188,
   "metadata": {
    "scrolled": true
   },
   "outputs": [
    {
     "data": {
      "text/plain": [
       "[(61,\n",
       "  '0.024*\"com\" + 0.016*\"google\" + 0.010*\"http\" + 0.009*\"браузер\" + 0.008*\"https\" + 0.008*\"www\" + 0.008*\"windows\" + 0.007*\"уязвимость\" + 0.007*\"chrome\" + 0.006*\"ссылка\"'),\n",
       " (44,\n",
       "  '0.026*\"точка\" + 0.010*\"доступ\" + 0.010*\"wi\" + 0.009*\"fi\" + 0.009*\"письмо\" + 0.006*\"отправитель\" + 0.006*\"сигнал\" + 0.005*\"сеть\" + 0.005*\"проверка\" + 0.005*\"диапазон\"'),\n",
       " (88,\n",
       "  '0.031*\"self\" + 0.013*\"def\" + 0.012*\"операция\" + 0.010*\"глаз\" + 0.009*\"json\" + 0.009*\"лазер\" + 0.007*\"объект\" + 0.006*\"пациент\" + 0.005*\"линза\" + 0.005*\"none\"'),\n",
       " (50,\n",
       "  '0.025*\"звук\" + 0.010*\"наушник\" + 0.009*\"музыка\" + 0.008*\"слушать\" + 0.007*\"читать\" + 0.006*\"устройство\" + 0.006*\"звуковой\" + 0.005*\"усилитель\" + 0.005*\"материал\" + 0.005*\"колонка\"'),\n",
       " (96,\n",
       "  '0.023*\"nginx\" + 0.008*\"loop\" + 0.007*\"sha\" + 0.007*\"mysql\" + 0.004*\"номер\" + 0.004*\"log\" + 0.004*\"sudo\" + 0.003*\"temp\" + 0.003*\"etc\" + 0.003*\"var\"'),\n",
       " (9,\n",
       "  '0.040*\"gt\" + 0.019*\"lt\" + 0.019*\"this\" + 0.017*\"return\" + 0.016*\"public\" + 0.015*\"new\" + 0.012*\"string\" + 0.012*\"function\" + 0.010*\"class\" + 0.009*\"if\"'),\n",
       " (75,\n",
       "  '0.010*\"китай\" + 0.008*\"деньга\" + 0.007*\"энергия\" + 0.006*\"источник\" + 0.005*\"страна\" + 0.005*\"мониторинг\" + 0.005*\"китайский\" + 0.005*\"devops\" + 0.005*\"инвестор\" + 0.005*\"центр\"'),\n",
       " (76,\n",
       "  '0.011*\"рынок\" + 0.011*\"android\" + 0.010*\"мобильный\" + 0.009*\"продукт\" + 0.007*\"ios\" + 0.006*\"google\" + 0.004*\"сообщество\" + 0.004*\"тестирование\" + 0.003*\"идея\" + 0.003*\"опыт\"'),\n",
       " (86,\n",
       "  '0.022*\"mb\" + 0.007*\"tcp\" + 0.007*\"read\" + 0.006*\"write\" + 0.006*\"js\" + 0.005*\"доступ\" + 0.005*\"соединение\" + 0.005*\"сокет\" + 0.005*\"ранний\" + 0.005*\"производительность\"'),\n",
       " (84,\n",
       "  '0.017*\"net\" + 0.017*\"windows\" + 0.016*\"microsoft\" + 0.011*\"studio\" + 0.010*\"visual\" + 0.009*\"linux\" + 0.007*\"платформа\" + 0.006*\"ide\" + 0.006*\"core\" + 0.005*\"поддержка\"'),\n",
       " (17,\n",
       "  '0.008*\"программа\" + 0.007*\"компьютер\" + 0.005*\"история\" + 0.004*\"атака\" + 0.004*\"фильм\" + 0.003*\"компьютерный\" + 0.003*\"цель\" + 0.003*\"машина\" + 0.003*\"сша\" + 0.003*\"робот\"'),\n",
       " (99,\n",
       "  '0.070*\"color\" + 0.066*\"бот\" + 0.036*\"text\" + 0.019*\"telegram\" + 0.009*\"канал\" + 0.009*\"blue\" + 0.008*\"телеграм\" + 0.007*\"green\" + 0.007*\"сообщение\" + 0.007*\"чат\"'),\n",
       " (90,\n",
       "  '0.230*\"gt\" + 0.171*\"lt\" + 0.013*\"php\" + 0.012*\"value\" + 0.011*\"name\" + 0.011*\"this\" + 0.010*\"option\" + 0.008*\"class\" + 0.006*\"block\" + 0.006*\"type\"'),\n",
       " (30,\n",
       "  '0.016*\"участник\" + 0.015*\"курс\" + 0.006*\"студент\" + 0.006*\"луна\" + 0.005*\"хакатон\" + 0.005*\"рейтинг\" + 0.005*\"набор\" + 0.005*\"соревнование\" + 0.004*\"выбрать\" + 0.004*\"астероид\"'),\n",
       " (36,\n",
       "  '0.037*\"js\" + 0.023*\"javascript\" + 0.019*\"css\" + 0.017*\"react\" + 0.015*\"angular\" + 0.014*\"веб\" + 0.009*\"es\" + 0.009*\"html\" + 0.008*\"модуль\" + 0.007*\"браузер\"'),\n",
       " (37,\n",
       "  '0.058*\"item\" + 0.046*\"name\" + 0.027*\"type\" + 0.017*\"input\" + 0.013*\"lt\" + 0.013*\"gt\" + 0.012*\"string\" + 0.009*\"result\" + 0.007*\"робот\" + 0.007*\"элемент\"'),\n",
       " (42,\n",
       "  '0.014*\"доход\" + 0.014*\"рубль\" + 0.012*\"налог\" + 0.011*\"вакансия\" + 0.011*\"ооо\" + 0.009*\"камера\" + 0.008*\"взнос\" + 0.007*\"сумма\" + 0.007*\"ручка\" + 0.007*\"налоговый\"'),\n",
       " (28,\n",
       "  '0.015*\"процессор\" + 0.013*\"память\" + 0.009*\"производительность\" + 0.008*\"intel\" + 0.007*\"ядро\" + 0.006*\"гб\" + 0.006*\"диск\" + 0.006*\"накопитель\" + 0.006*\"ssd\" + 0.005*\"сервер\"'),\n",
       " (19,\n",
       "  '0.021*\"безопасность\" + 0.017*\"устройство\" + 0.014*\"атака\" + 0.014*\"пароль\" + 0.012*\"защита\" + 0.011*\"уязвимость\" + 0.010*\"доступ\" + 0.009*\"ключ\" + 0.008*\"злоумышленник\" + 0.007*\"сервер\"'),\n",
       " (52,\n",
       "  '0.014*\"движение\" + 0.013*\"рука\" + 0.009*\"mode\" + 0.008*\"урок\" + 0.007*\"мышца\" + 0.006*\"bit\" + 0.005*\"ситуация\" + 0.005*\"битый\" + 0.005*\"положение\" + 0.004*\"палец\"')]"
      ]
     },
     "execution_count": 188,
     "metadata": {},
     "output_type": "execute_result"
    }
   ],
   "source": [
    "lda.print_topics()"
   ]
  },
  {
   "cell_type": "code",
   "execution_count": 189,
   "metadata": {},
   "outputs": [
    {
     "data": {
      "text/plain": [
       "-16.288716254445649"
      ]
     },
     "execution_count": 189,
     "metadata": {},
     "output_type": "execute_result"
    }
   ],
   "source": [
    "lda.log_perplexity(corpus[:2000], total_docs=100)"
   ]
  },
  {
   "cell_type": "code",
   "execution_count": 190,
   "metadata": {},
   "outputs": [],
   "source": [
    "coherence_model_lda = gensim.models.CoherenceModel(model=lda, \n",
    "                                                   texts=texts, \n",
    "                                                   dictionary=dictinary, coherence='c_v')"
   ]
  },
  {
   "cell_type": "code",
   "execution_count": 191,
   "metadata": {},
   "outputs": [],
   "source": [
    "topics = []\n",
    "for topic_id, topic in lda.show_topics(num_topics=100, formatted=False):\n",
    "    topic = [word for word, _ in topic]\n",
    "    topics.append(topic)"
   ]
  },
  {
   "cell_type": "code",
   "execution_count": 192,
   "metadata": {},
   "outputs": [],
   "source": [
    "coherence_model_lda = gensim.models.CoherenceModel(topics=topics, \n",
    "                                                   texts=texts, \n",
    "                                                   dictionary=dictinary, coherence='c_v')"
   ]
  },
  {
   "cell_type": "code",
   "execution_count": 193,
   "metadata": {},
   "outputs": [
    {
     "name": "stdout",
     "output_type": "stream",
     "text": [
      "[['gitlab', 'gen', 'объект', 'docker', 'сохранение', 'контейнер', 'метод', 'val', 'генератор', 'класс'], ['ключ', 'подпись', 'форум', 'открытый', 'блок', 'закрытый', 'сообщение', 'электронный', 'публичный', 'документ'], ['ия', 'нейросеть', 'виртуальный', 'реальность', 'обучение', 'объект', 'распознавание', 'метод', 'научный', 'область'], ['файл', 'com', 'http', 'docker', 'git', 'api', 'сервер', 'скрипт', 'github', 'настройка'], ['язык', 'перевод', 'библиотека', 'python', 'локализация', 'текст', 'английский', 'less', 'строка', 'сайт'], ['end', 'if', 'begin', 'then', 'lt', 'else', 'gt', 'control', 'property', 'left'], ['вселенная', 'энергия', 'модель', 'теория', 'квантовый', 'пространство', 'объект', 'скорость', 'метод', 'измерение'], ['товар', 'скидка', 'цена', 'заказ', 'распродажа', 'продажа', 'категория', 'миссия', 'покупатель', 'одежда'], ['php', 'ошибка', 'элемент', 'анализ', 'yii', 'логика', 'инструмент', 'ссылка', 'релиз', 'library'], ['gt', 'lt', 'this', 'return', 'public', 'new', 'string', 'function', 'class', 'if']]\n"
     ]
    }
   ],
   "source": [
    "print(topics[:10])"
   ]
  },
  {
   "cell_type": "code",
   "execution_count": 203,
   "metadata": {},
   "outputs": [
    {
     "name": "stderr",
     "output_type": "stream",
     "text": [
      "/opt/conda/lib/python3.6/site-packages/gensim/topic_coherence/direct_confirmation_measure.py:193: RuntimeWarning: invalid value encountered in true_divide\n",
      "  numerator = (co_occur_count / num_docs) + EPSILON\n",
      "/opt/conda/lib/python3.6/site-packages/gensim/topic_coherence/direct_confirmation_measure.py:194: RuntimeWarning: invalid value encountered in true_divide\n",
      "  denominator = (w_prime_count / num_docs) * (w_star_count / num_docs)\n",
      "/opt/conda/lib/python3.6/site-packages/gensim/topic_coherence/direct_confirmation_measure.py:189: RuntimeWarning: invalid value encountered in true_divide\n",
      "  co_doc_prob = co_occur_count / num_docs\n"
     ]
    },
    {
     "data": {
      "text/plain": [
       "nan"
      ]
     },
     "execution_count": 203,
     "metadata": {},
     "output_type": "execute_result"
    }
   ],
   "source": [
    "coherence_model_lda.get_coherence() #:((("
   ]
  },
  {
   "cell_type": "markdown",
   "metadata": {},
   "source": [
    "### 5) для самой хорошей модели в отдельной ячейке напечатайте 3 хороших (на ваш вкус) темы;"
   ]
  },
  {
   "cell_type": "markdown",
   "metadata": {},
   "source": [
    "1. 'вселенная', 'энергия', 'модель', 'теория', 'квантовый', 'пространство', 'объект', 'скорость', 'метод', 'измерение'\n",
    "2. 'ключ', 'подпись', 'форум', 'открытый', 'блок', 'закрытый', 'сообщение', 'электронный', 'публичный', 'документ'\n",
    "3. 'товар', 'скидка', 'цена', 'заказ', 'распродажа', 'продажа', 'категория', 'миссия', 'покупатель', 'одежда'"
   ]
  },
  {
   "cell_type": "markdown",
   "metadata": {},
   "source": [
    "### 6) между словарем и обучением модели добавьте tfidf;"
   ]
  },
  {
   "cell_type": "code",
   "execution_count": 201,
   "metadata": {},
   "outputs": [],
   "source": [
    "tfidf = gensim.models.TfidfModel(corpus, id2word=dictinary)"
   ]
  },
  {
   "cell_type": "code",
   "execution_count": 202,
   "metadata": {},
   "outputs": [],
   "source": [
    "corpus = tfidf[corpus]"
   ]
  },
  {
   "cell_type": "markdown",
   "metadata": {},
   "source": [
    "### 7) заново обучите LDA c теми же параметрами (параметрами самой лучшей модели, заново перебирать не нужно);"
   ]
  },
  {
   "cell_type": "code",
   "execution_count": 204,
   "metadata": {},
   "outputs": [],
   "source": [
    "lda = gensim.models.LdaMulticore(corpus, 100,\n",
    "                                 id2word=dictinary,\n",
    "                                 passes=10,\n",
    "                                 #alpha = 'asymmetric',\n",
    "                                 eta = 0.5\n",
    "                                )"
   ]
  },
  {
   "cell_type": "code",
   "execution_count": 212,
   "metadata": {},
   "outputs": [
    {
     "data": {
      "text/plain": [
       "[(75,\n",
       "  '0.000*\"docker\" + 0.000*\"serial\" + 0.000*\"игра\" + 0.000*\"nginx\" + 0.000*\"gt\" + 0.000*\"lt\" + 0.000*\"фигура\" + 0.000*\"контейнер\" + 0.000*\"println\" + 0.000*\"файл\"'),\n",
       " (80,\n",
       "  '0.000*\"блокировка\" + 0.000*\"робот\" + 0.000*\"печать\" + 0.000*\"принтер\" + 0.000*\"amazon\" + 0.000*\"игра\" + 0.000*\"ip\" + 0.000*\"карта\" + 0.000*\"провайдер\" + 0.000*\"магазин\"'),\n",
       " (88,\n",
       "  '0.000*\"квантовый\" + 0.000*\"nokia\" + 0.000*\"символ\" + 0.000*\"энергия\" + 0.000*\"print\" + 0.000*\"дисплей\" + 0.000*\"подмножество\" + 0.000*\"транзистор\" + 0.000*\"алфавит\" + 0.000*\"math\"'),\n",
       " (64,\n",
       "  '0.000*\"whatsapp\" + 0.000*\"ios\" + 0.000*\"карта\" + 0.000*\"фонд\" + 0.000*\"конкурс\" + 0.000*\"gitlab\" + 0.000*\"стекло\" + 0.000*\"сигнал\" + 0.000*\"частота\" + 0.000*\"индекс\"'),\n",
       " (91,\n",
       "  '0.000*\"qt\" + 0.000*\"пластик\" + 0.000*\"билет\" + 0.000*\"instance\" + 0.000*\"abs\" + 0.000*\"www\" + 0.000*\"edge\" + 0.000*\"игрок\" + 0.000*\"объявление\" + 0.000*\"watson\"'),\n",
       " (18,\n",
       "  '0.000*\"self\" + 0.000*\"галактика\" + 0.000*\"вселенная\" + 0.000*\"keys\" + 0.000*\"длина\" + 0.000*\"дефект\" + 0.000*\"заносить\" + 0.000*\"энергия\" + 0.000*\"поезд\" + 0.000*\"def\"'),\n",
       " (1,\n",
       "  '0.000*\"else\" + 0.000*\"suite\" + 0.000*\"value\" + 0.000*\"operator\" + 0.000*\"аккаунт\" + 0.000*\"налог\" + 0.000*\"энергия\" + 0.000*\"сканирование\" + 0.000*\"игра\" + 0.000*\"криптовалюта\"'),\n",
       " (2,\n",
       "  '0.000*\"лампа\" + 0.000*\"игра\" + 0.000*\"игрок\" + 0.000*\"доменный\" + 0.000*\"препарат\" + 0.000*\"разрешать\" + 0.000*\"бот\" + 0.000*\"алгоритм\" + 0.000*\"point\" + 0.000*\"индекс\"'),\n",
       " (45,\n",
       "  '0.000*\"стек\" + 0.000*\"pos\" + 0.000*\"прогон\" + 0.000*\"exe\" + 0.000*\"блокчейн\" + 0.000*\"мс\" + 0.000*\"модуль\" + 0.000*\"gt\" + 0.000*\"dom\" + 0.000*\"маршрутизация\"'),\n",
       " (85,\n",
       "  '0.000*\"gt\" + 0.000*\"pdf\" + 0.000*\"ток\" + 0.000*\"скачать\" + 0.000*\"ручка\" + 0.000*\"эпизод\" + 0.000*\"комната\" + 0.000*\"измерение\" + 0.000*\"lt\" + 0.000*\"помещение\"'),\n",
       " (74,\n",
       "  '0.000*\"up\" + 0.000*\"days\" + 0.000*\"down\" + 0.000*\"товар\" + 0.000*\"gt\" + 0.000*\"цена\" + 0.000*\"div\" + 0.000*\"станок\" + 0.000*\"lt\" + 0.000*\"скидка\"'),\n",
       " (76,\n",
       "  '0.000*\"react\" + 0.000*\"gt\" + 0.000*\"резервный\" + 0.000*\"lt\" + 0.000*\"копирование\" + 0.000*\"уязвимость\" + 0.000*\"доклад\" + 0.000*\"пароль\" + 0.000*\"props\" + 0.000*\"отпуск\"'),\n",
       " (34,\n",
       "  '0.000*\"yahoo\" + 0.000*\"игра\" + 0.000*\"текстура\" + 0.000*\"loop\" + 0.000*\"слот\" + 0.000*\"vr\" + 0.000*\"устройство\" + 0.000*\"htc\" + 0.000*\"маска\" + 0.000*\"взлом\"'),\n",
       " (9,\n",
       "  '0.000*\"gen\" + 0.000*\"gt\" + 0.000*\"ткань\" + 0.000*\"ооо\" + 0.000*\"val\" + 0.000*\"builder\" + 0.000*\"преступник\" + 0.000*\"человеческий\" + 0.000*\"бизнес\" + 0.000*\"gb\"'),\n",
       " (12,\n",
       "  '0.000*\"лекция\" + 0.000*\"квантовый\" + 0.000*\"бактерия\" + 0.000*\"уравнение\" + 0.000*\"this\" + 0.000*\"формула\" + 0.000*\"глаз\" + 0.000*\"ботнет\" + 0.000*\"исследование\" + 0.000*\"сеть\"'),\n",
       " (78,\n",
       "  '0.000*\"nginx\" + 0.000*\"sudo\" + 0.000*\"st\" + 0.000*\"gt\" + 0.000*\"переводчик\" + 0.000*\"android\" + 0.000*\"http\" + 0.000*\"var\" + 0.000*\"lt\" + 0.000*\"ubuntu\"'),\n",
       " (39,\n",
       "  '0.000*\"бэкап\" + 0.000*\"дата\" + 0.000*\"плагин\" + 0.000*\"центр\" + 0.000*\"цод\" + 0.000*\"инфраструктура\" + 0.000*\"оборудование\" + 0.000*\"доклад\" + 0.000*\"синдром\" + 0.000*\"резервный\"'),\n",
       " (54,\n",
       "  '0.000*\"корпус\" + 0.000*\"print\" + 0.000*\"москва\" + 0.000*\"крыло\" + 0.000*\"антон\" + 0.000*\"ruby\" + 0.000*\"russia\" + 0.000*\"apple\" + 0.000*\"obj\" + 0.000*\"устройство\"'),\n",
       " (40,\n",
       "  '0.001*\"light\" + 0.000*\"in\" + 0.000*\"rgb\" + 0.000*\"блок\" + 0.000*\"линейный\" + 0.000*\"python\" + 0.000*\"go\" + 0.000*\"ftp\" + 0.000*\"музей\" + 0.000*\"блокчейн\"'),\n",
       " (6,\n",
       "  '0.000*\"void\" + 0.000*\"public\" + 0.000*\"https\" + 0.000*\"игра\" + 0.000*\"рис\" + 0.000*\"изображение\" + 0.000*\"анимация\" + 0.000*\"трансляция\" + 0.000*\"спринт\" + 0.000*\"программа\"')]"
      ]
     },
     "execution_count": 212,
     "metadata": {},
     "output_type": "execute_result"
    }
   ],
   "source": [
    "lda.print_topics()"
   ]
  },
  {
   "cell_type": "code",
   "execution_count": 205,
   "metadata": {},
   "outputs": [
    {
     "data": {
      "text/plain": [
       "-17.725786469058622"
      ]
     },
     "execution_count": 205,
     "metadata": {},
     "output_type": "execute_result"
    }
   ],
   "source": [
    "lda.log_perplexity(corpus[:2000], total_docs=100)"
   ]
  },
  {
   "cell_type": "code",
   "execution_count": 206,
   "metadata": {},
   "outputs": [],
   "source": [
    "coherence_model_lda = gensim.models.CoherenceModel(model=lda, \n",
    "                                                   texts=texts, \n",
    "                                                   dictionary=dictinary, coherence='c_v')"
   ]
  },
  {
   "cell_type": "code",
   "execution_count": 207,
   "metadata": {},
   "outputs": [],
   "source": [
    "topics = []\n",
    "for topic_id, topic in lda.show_topics(num_topics=100, formatted=False):\n",
    "    topic = [word for word, _ in topic]\n",
    "    topics.append(topic)"
   ]
  },
  {
   "cell_type": "code",
   "execution_count": 208,
   "metadata": {},
   "outputs": [],
   "source": [
    "coherence_model_lda = gensim.models.CoherenceModel(topics=topics, \n",
    "                                                   texts=texts, \n",
    "                                                   dictionary=dictinary, coherence='c_v')"
   ]
  },
  {
   "cell_type": "code",
   "execution_count": 209,
   "metadata": {},
   "outputs": [
    {
     "name": "stdout",
     "output_type": "stream",
     "text": [
      "[['игра', 'устройство', 'сервер', 'сайт', 'файл', 'клиент', 'сеть', 'сервис', 'продукт', 'google'], ['else', 'suite', 'value', 'operator', 'аккаунт', 'налог', 'энергия', 'сканирование', 'игра', 'криптовалюта'], ['лампа', 'игра', 'игрок', 'доменный', 'препарат', 'разрешать', 'бот', 'алгоритм', 'point', 'индекс'], ['алюминиевый', 'алюминий', 'плат', 'основание', 'игра', '[]', 'страна', 'вирус', 'профилактика', 'атака'], ['игра', 'person', 'gt', 'vr', 'equals', 'игровой', 'интервью', 'this', 'нейросеть', 'product'], ['блокчейн', 'голосование', 'дрон', 'весы', 'игра', 'ребёнок', 'стартап', 'рубль', 'билет', 'google'], ['void', 'public', 'https', 'игра', 'рис', 'изображение', 'анимация', 'трансляция', 'спринт', 'программа'], ['регистр', 'option', 'забросить', 'реклама', 'сообщество', 'requests', 'whatsapp', 'переехать', 'facebook', 'звук'], ['alpha', 'lt', 'gt', 'val', 'return', 'анимация', 'int', 'иконка', 'this', 'лекция'], ['gen', 'gt', 'ткань', 'ооо', 'val', 'builder', 'преступник', 'человеческий', 'бизнес', 'gb']]\n"
     ]
    }
   ],
   "source": [
    "print(topics[:10])"
   ]
  },
  {
   "cell_type": "markdown",
   "metadata": {},
   "source": [
    "### 8) в отдельной ячейке опишите как изменилась модель (приведите несколько тем, которые стали лучше или хуже, или которых раньше вообще не было; можно привести значения перплексии и когерентности для обеих моделей)"
   ]
  },
  {
   "cell_type": "markdown",
   "metadata": {},
   "source": [
    "При использовании tfidf значение перплексии несколько снизилось (-17,72 vs - 16,29). Значение связности у меня, к сожалению, не посчиталось :(. В целом, темы стали выделяться хуже, появилось упоминание слова \"игра\" во многих топиках. При этом в топиках, полученных при обучении модели без tfidf, можно выделить хорошие темы \"вселенная\", \"цифровая безопасность\", \"продажи\", \"виртуальный контейнер\", \"языковая локализация\". В темах с tfidf таких однозначных тем не встречается."
   ]
  },
  {
   "cell_type": "markdown",
   "metadata": {},
   "source": [
    "### 9) проделайте такие же действия для NMF (образец в конце тетрадки), для построения словаря воспользуйтесь возможностями Count или Tfidf Vectorizer (попробуйте другие значение max_features, min_df, max_df, сделайте нграмы через ngram_range, если хватает памяти), попробуйте такие же количества тем"
   ]
  },
  {
   "cell_type": "code",
   "execution_count": 213,
   "metadata": {},
   "outputs": [],
   "source": [
    "from sklearn.decomposition import NMF\n",
    "from sklearn.feature_extraction.text import CountVectorizer, TfidfVectorizer\n",
    "import pandas as pd"
   ]
  },
  {
   "cell_type": "markdown",
   "metadata": {},
   "source": [
    "Sklearn принимает на вход строки, поэтому склеим наши списки."
   ]
  },
  {
   "cell_type": "code",
   "execution_count": 220,
   "metadata": {},
   "outputs": [],
   "source": [
    "stexts = [' '.join(text) for text in no_stop_words]"
   ]
  },
  {
   "cell_type": "markdown",
   "metadata": {},
   "source": [
    "Сделаем матрицу слова-документы с помощью TfidfVectorizer"
   ]
  },
  {
   "cell_type": "code",
   "execution_count": 237,
   "metadata": {},
   "outputs": [],
   "source": [
    "vectorizer = TfidfVectorizer(max_features=25000,\n",
    "                             min_df=5,\n",
    "                             max_df=0.8,\n",
    "                             lowercase=False,\n",
    "                             ngram_range=(1, 2)\n",
    "                            )\n",
    "X = vectorizer.fit_transform(stexts)"
   ]
  },
  {
   "cell_type": "markdown",
   "metadata": {},
   "source": [
    "Разложим её."
   ]
  },
  {
   "cell_type": "code",
   "execution_count": 238,
   "metadata": {},
   "outputs": [],
   "source": [
    "model = NMF(n_components=30)"
   ]
  },
  {
   "cell_type": "code",
   "execution_count": 239,
   "metadata": {},
   "outputs": [
    {
     "data": {
      "text/plain": [
       "NMF(alpha=0.0, beta_loss='frobenius', init=None, l1_ratio=0.0, max_iter=200,\n",
       "  n_components=30, random_state=None, shuffle=False, solver='cd',\n",
       "  tol=0.0001, verbose=0)"
      ]
     },
     "execution_count": 239,
     "metadata": {},
     "output_type": "execute_result"
    }
   ],
   "source": [
    "model.fit(X)"
   ]
  },
  {
   "cell_type": "code",
   "execution_count": 240,
   "metadata": {},
   "outputs": [],
   "source": [
    "def get_nmf_topics(model, n_top_words):\n",
    "    \n",
    "    #id слов.\n",
    "    feat_names = vectorizer.get_feature_names()\n",
    "    \n",
    "    word_dict = {};\n",
    "    for i in range(30):\n",
    "        \n",
    "        #топ n слов для темы.\n",
    "        words_ids = model.components_[i].argsort()[:-n_top_words - 1:-1]\n",
    "        words = [feat_names[key] for key in words_ids]\n",
    "        word_dict['Topic # ' + '{:02d}'.format(i+1)] = words;\n",
    "    \n",
    "    return pd.DataFrame(word_dict);"
   ]
  },
  {
   "cell_type": "code",
   "execution_count": 241,
   "metadata": {},
   "outputs": [
    {
     "data": {
      "text/html": [
       "<div>\n",
       "<style scoped>\n",
       "    .dataframe tbody tr th:only-of-type {\n",
       "        vertical-align: middle;\n",
       "    }\n",
       "\n",
       "    .dataframe tbody tr th {\n",
       "        vertical-align: top;\n",
       "    }\n",
       "\n",
       "    .dataframe thead th {\n",
       "        text-align: right;\n",
       "    }\n",
       "</style>\n",
       "<table border=\"1\" class=\"dataframe\">\n",
       "  <thead>\n",
       "    <tr style=\"text-align: right;\">\n",
       "      <th></th>\n",
       "      <th>Topic # 01</th>\n",
       "      <th>Topic # 02</th>\n",
       "      <th>Topic # 03</th>\n",
       "      <th>Topic # 04</th>\n",
       "      <th>Topic # 05</th>\n",
       "      <th>Topic # 06</th>\n",
       "      <th>Topic # 07</th>\n",
       "      <th>Topic # 08</th>\n",
       "      <th>Topic # 09</th>\n",
       "      <th>Topic # 10</th>\n",
       "      <th>...</th>\n",
       "      <th>Topic # 21</th>\n",
       "      <th>Topic # 22</th>\n",
       "      <th>Topic # 23</th>\n",
       "      <th>Topic # 24</th>\n",
       "      <th>Topic # 25</th>\n",
       "      <th>Topic # 26</th>\n",
       "      <th>Topic # 27</th>\n",
       "      <th>Topic # 28</th>\n",
       "      <th>Topic # 29</th>\n",
       "      <th>Topic # 30</th>\n",
       "    </tr>\n",
       "  </thead>\n",
       "  <tbody>\n",
       "    <tr>\n",
       "      <th>0</th>\n",
       "      <td>проект</td>\n",
       "      <td>gt</td>\n",
       "      <td>игра</td>\n",
       "      <td>компания</td>\n",
       "      <td>код</td>\n",
       "      <td>дать</td>\n",
       "      <td>приложение</td>\n",
       "      <td>марс</td>\n",
       "      <td>public</td>\n",
       "      <td>ракета</td>\n",
       "      <td>...</td>\n",
       "      <td>ия</td>\n",
       "      <td>печать</td>\n",
       "      <td>дата центр</td>\n",
       "      <td>int</td>\n",
       "      <td>сайт</td>\n",
       "      <td>бот</td>\n",
       "      <td>сигнал</td>\n",
       "      <td>vr</td>\n",
       "      <td>windows</td>\n",
       "      <td>товар</td>\n",
       "    </tr>\n",
       "    <tr>\n",
       "      <th>1</th>\n",
       "      <td>задача</td>\n",
       "      <td>lt</td>\n",
       "      <td>игрок</td>\n",
       "      <td>сотрудник</td>\n",
       "      <td>язык</td>\n",
       "      <td>сервер</td>\n",
       "      <td>android</td>\n",
       "      <td>земля</td>\n",
       "      <td>string</td>\n",
       "      <td>спутник</td>\n",
       "      <td>...</td>\n",
       "      <td>обучение</td>\n",
       "      <td>принтер</td>\n",
       "      <td>дата</td>\n",
       "      <td>if</td>\n",
       "      <td>пользователь</td>\n",
       "      <td>telegram</td>\n",
       "      <td>звук</td>\n",
       "      <td>виртуальный</td>\n",
       "      <td>microsoft</td>\n",
       "      <td>скидка</td>\n",
       "    </tr>\n",
       "    <tr>\n",
       "      <th>2</th>\n",
       "      <td>команда</td>\n",
       "      <td>gt lt</td>\n",
       "      <td>игровой</td>\n",
       "      <td>бизнес</td>\n",
       "      <td>функция</td>\n",
       "      <td>диск</td>\n",
       "      <td>мобильный</td>\n",
       "      <td>луна</td>\n",
       "      <td>this</td>\n",
       "      <td>ступень</td>\n",
       "      <td>...</td>\n",
       "      <td>нейросеть</td>\n",
       "      <td>станок</td>\n",
       "      <td>центр</td>\n",
       "      <td>lt</td>\n",
       "      <td>страница</td>\n",
       "      <td>сообщение</td>\n",
       "      <td>частота</td>\n",
       "      <td>виртуальный реальность</td>\n",
       "      <td>linux</td>\n",
       "      <td>магазин</td>\n",
       "    </tr>\n",
       "    <tr>\n",
       "      <th>3</th>\n",
       "      <td>работа</td>\n",
       "      <td>div</td>\n",
       "      <td>играть</td>\n",
       "      <td>рынок</td>\n",
       "      <td>объект</td>\n",
       "      <td>виртуальный</td>\n",
       "      <td>ios</td>\n",
       "      <td>космический</td>\n",
       "      <td>new</td>\n",
       "      <td>двигатель</td>\n",
       "      <td>...</td>\n",
       "      <td>робот</td>\n",
       "      <td>мм</td>\n",
       "      <td>оборудование</td>\n",
       "      <td>amp</td>\n",
       "      <td>клиент</td>\n",
       "      <td>телеграм</td>\n",
       "      <td>усилитель</td>\n",
       "      <td>реальность</td>\n",
       "      <td>studio</td>\n",
       "      <td>цена</td>\n",
       "    </tr>\n",
       "    <tr>\n",
       "      <th>4</th>\n",
       "      <td>продукт</td>\n",
       "      <td>lt div</td>\n",
       "      <td>персонаж</td>\n",
       "      <td>российский</td>\n",
       "      <td>значение</td>\n",
       "      <td>система</td>\n",
       "      <td>google</td>\n",
       "      <td>планета</td>\n",
       "      <td>return</td>\n",
       "      <td>spacex</td>\n",
       "      <td>...</td>\n",
       "      <td>интеллект</td>\n",
       "      <td>пластик</td>\n",
       "      <td>цод</td>\n",
       "      <td>std</td>\n",
       "      <td>реклама</td>\n",
       "      <td>bot</td>\n",
       "      <td>наушник</td>\n",
       "      <td>oculus</td>\n",
       "      <td>версия</td>\n",
       "      <td>распродажа</td>\n",
       "    </tr>\n",
       "    <tr>\n",
       "      <th>5</th>\n",
       "      <td>делать</td>\n",
       "      <td>lt gt</td>\n",
       "      <td>разработчик</td>\n",
       "      <td>ит</td>\n",
       "      <td>дать</td>\n",
       "      <td>резервный</td>\n",
       "      <td>устройство</td>\n",
       "      <td>аппарат</td>\n",
       "      <td>void</td>\n",
       "      <td>ракета носитель</td>\n",
       "      <td>...</td>\n",
       "      <td>сеть</td>\n",
       "      <td>материал</td>\n",
       "      <td>инфраструктура</td>\n",
       "      <td>gt</td>\n",
       "      <td>сервис</td>\n",
       "      <td>чат</td>\n",
       "      <td>устройство</td>\n",
       "      <td>технология</td>\n",
       "      <td>visual</td>\n",
       "      <td>чёрный пятница</td>\n",
       "    </tr>\n",
       "    <tr>\n",
       "      <th>6</th>\n",
       "      <td>программист</td>\n",
       "      <td>div gt</td>\n",
       "      <td>unity</td>\n",
       "      <td>крупный</td>\n",
       "      <td>строка</td>\n",
       "      <td>память</td>\n",
       "      <td>app</td>\n",
       "      <td>орбита</td>\n",
       "      <td>gt</td>\n",
       "      <td>космический</td>\n",
       "      <td>...</td>\n",
       "      <td>искусственный</td>\n",
       "      <td>печатать</td>\n",
       "      <td>услуга</td>\n",
       "      <td>void</td>\n",
       "      <td>контент</td>\n",
       "      <td>api</td>\n",
       "      <td>сеть</td>\n",
       "      <td>шлем</td>\n",
       "      <td>net</td>\n",
       "      <td>покупатель</td>\n",
       "    </tr>\n",
       "    <tr>\n",
       "      <th>7</th>\n",
       "      <td>работать</td>\n",
       "      <td>class</td>\n",
       "      <td>steam</td>\n",
       "      <td>страна</td>\n",
       "      <td>тип</td>\n",
       "      <td>машина</td>\n",
       "      <td>пользователь</td>\n",
       "      <td>астероид</td>\n",
       "      <td>var</td>\n",
       "      <td>пуск</td>\n",
       "      <td>...</td>\n",
       "      <td>искусственный интеллект</td>\n",
       "      <td>производство</td>\n",
       "      <td>провайдер</td>\n",
       "      <td>lt lt</td>\n",
       "      <td>письмо</td>\n",
       "      <td>пользователь</td>\n",
       "      <td>искажение</td>\n",
       "      <td>vive</td>\n",
       "      <td>visual studio</td>\n",
       "      <td>пятница</td>\n",
       "    </tr>\n",
       "    <tr>\n",
       "      <th>8</th>\n",
       "      <td>разработчик</td>\n",
       "      <td>name</td>\n",
       "      <td>геймплей</td>\n",
       "      <td>директор</td>\n",
       "      <td>элемент</td>\n",
       "      <td>база</td>\n",
       "      <td>мобильный приложение</td>\n",
       "      <td>солнечный</td>\n",
       "      <td>public void</td>\n",
       "      <td>орбита</td>\n",
       "      <td>...</td>\n",
       "      <td>нейронный</td>\n",
       "      <td>деталь</td>\n",
       "      <td>облачный</td>\n",
       "      <td>return</td>\n",
       "      <td>домен</td>\n",
       "      <td>мессенджер</td>\n",
       "      <td>звуковой</td>\n",
       "      <td>htc</td>\n",
       "      <td>azure</td>\n",
       "      <td>покупка</td>\n",
       "    </tr>\n",
       "    <tr>\n",
       "      <th>9</th>\n",
       "      <td>хороший</td>\n",
       "      <td>this</td>\n",
       "      <td>уровень</td>\n",
       "      <td>стартап</td>\n",
       "      <td>использовать</td>\n",
       "      <td>производительность</td>\n",
       "      <td>разработчик</td>\n",
       "      <td>станция</td>\n",
       "      <td>private</td>\n",
       "      <td>носитель</td>\n",
       "      <td>...</td>\n",
       "      <td>машинный</td>\n",
       "      <td>изделие</td>\n",
       "      <td>сервер</td>\n",
       "      <td>char</td>\n",
       "      <td>браузер</td>\n",
       "      <td>канал</td>\n",
       "      <td>музыка</td>\n",
       "      <td>дополнить реальность</td>\n",
       "      <td>браузер</td>\n",
       "      <td>чёрный</td>\n",
       "    </tr>\n",
       "  </tbody>\n",
       "</table>\n",
       "<p>10 rows × 30 columns</p>\n",
       "</div>"
      ],
      "text/plain": [
       "    Topic # 01 Topic # 02   Topic # 03  Topic # 04    Topic # 05  \\\n",
       "0       проект         gt         игра    компания           код   \n",
       "1       задача         lt        игрок   сотрудник          язык   \n",
       "2      команда      gt lt      игровой      бизнес       функция   \n",
       "3       работа        div       играть       рынок        объект   \n",
       "4      продукт     lt div     персонаж  российский      значение   \n",
       "5       делать      lt gt  разработчик          ит          дать   \n",
       "6  программист     div gt        unity     крупный        строка   \n",
       "7     работать      class        steam      страна           тип   \n",
       "8  разработчик       name     геймплей    директор       элемент   \n",
       "9      хороший       this      уровень     стартап  использовать   \n",
       "\n",
       "           Topic # 06            Topic # 07   Topic # 08   Topic # 09  \\\n",
       "0                дать            приложение         марс       public   \n",
       "1              сервер               android        земля       string   \n",
       "2                диск             мобильный         луна         this   \n",
       "3         виртуальный                   ios  космический          new   \n",
       "4             система                google      планета       return   \n",
       "5           резервный            устройство      аппарат         void   \n",
       "6              память                   app       орбита           gt   \n",
       "7              машина          пользователь     астероид          var   \n",
       "8                база  мобильный приложение    солнечный  public void   \n",
       "9  производительность           разработчик      станция      private   \n",
       "\n",
       "        Topic # 10       ...                     Topic # 21    Topic # 22  \\\n",
       "0           ракета       ...                             ия        печать   \n",
       "1          спутник       ...                       обучение       принтер   \n",
       "2          ступень       ...                      нейросеть        станок   \n",
       "3        двигатель       ...                          робот            мм   \n",
       "4           spacex       ...                      интеллект       пластик   \n",
       "5  ракета носитель       ...                           сеть      материал   \n",
       "6      космический       ...                  искусственный      печатать   \n",
       "7             пуск       ...        искусственный интеллект  производство   \n",
       "8           орбита       ...                      нейронный        деталь   \n",
       "9         носитель       ...                       машинный       изделие   \n",
       "\n",
       "       Topic # 23 Topic # 24    Topic # 25    Topic # 26  Topic # 27  \\\n",
       "0      дата центр        int          сайт           бот      сигнал   \n",
       "1            дата         if  пользователь      telegram        звук   \n",
       "2           центр         lt      страница     сообщение     частота   \n",
       "3    оборудование        amp        клиент      телеграм   усилитель   \n",
       "4             цод        std       реклама           bot     наушник   \n",
       "5  инфраструктура         gt        сервис           чат  устройство   \n",
       "6          услуга       void       контент           api        сеть   \n",
       "7       провайдер      lt lt        письмо  пользователь   искажение   \n",
       "8        облачный     return         домен    мессенджер    звуковой   \n",
       "9          сервер       char       браузер         канал      музыка   \n",
       "\n",
       "               Topic # 28     Topic # 29      Topic # 30  \n",
       "0                      vr        windows           товар  \n",
       "1             виртуальный      microsoft          скидка  \n",
       "2  виртуальный реальность          linux         магазин  \n",
       "3              реальность         studio            цена  \n",
       "4                  oculus         версия      распродажа  \n",
       "5              технология         visual  чёрный пятница  \n",
       "6                    шлем            net      покупатель  \n",
       "7                    vive  visual studio         пятница  \n",
       "8                     htc          azure         покупка  \n",
       "9    дополнить реальность        браузер          чёрный  \n",
       "\n",
       "[10 rows x 30 columns]"
      ]
     },
     "execution_count": 241,
     "metadata": {},
     "output_type": "execute_result"
    }
   ],
   "source": [
    "get_nmf_topics(model, 10)"
   ]
  },
  {
   "cell_type": "markdown",
   "metadata": {},
   "source": [
    "### 10) в отдельной ячейки напечатайте таблицу с темами лучшей NMF модели, сравните их с теми, что получились в LDA"
   ]
  },
  {
   "cell_type": "markdown",
   "metadata": {},
   "source": [
    "Темы, полученные при обучении NMF модели выглядят более связными, чем для модели LDA. Также они довольно подробны, например, не просто продажи, а отдельно реклама, отдельно распродажи, отдельно бизнес. При этом в темах фактически не встречается лишних по смыслу слов. При использовании биграмм качество значительно не улучшается. Появляются словосочетания \"виртуальная реальность\", \"мобильное устройство\" и \"искуственный интеллект\"."
   ]
  },
  {
   "cell_type": "code",
   "execution_count": null,
   "metadata": {},
   "outputs": [],
   "source": []
  }
 ],
 "metadata": {
  "kernelspec": {
   "display_name": "Python 3",
   "language": "python",
   "name": "python3"
  },
  "language_info": {
   "codemirror_mode": {
    "name": "ipython",
    "version": 3
   },
   "file_extension": ".py",
   "mimetype": "text/x-python",
   "name": "python",
   "nbconvert_exporter": "python",
   "pygments_lexer": "ipython3",
   "version": "3.6.3"
  }
 },
 "nbformat": 4,
 "nbformat_minor": 2
}
