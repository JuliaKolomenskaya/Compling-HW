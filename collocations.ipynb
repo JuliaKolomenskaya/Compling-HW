{
 "cells": [
  {
   "cell_type": "code",
   "execution_count": 61,
   "metadata": {
    "collapsed": true
   },
   "outputs": [],
   "source": [
    "import nltk"
   ]
  },
  {
   "cell_type": "code",
   "execution_count": 62,
   "metadata": {
    "collapsed": true
   },
   "outputs": [],
   "source": [
    "import pandas as pd\n",
    "import os\n",
    "from collections import Counter, defaultdict\n",
    "import numpy as np"
   ]
  },
  {
   "cell_type": "code",
   "execution_count": 63,
   "metadata": {
    "collapsed": false
   },
   "outputs": [],
   "source": [
    "from math import log"
   ]
  },
  {
   "cell_type": "code",
   "execution_count": 64,
   "metadata": {
    "collapsed": true
   },
   "outputs": [],
   "source": [
    "def words_to_dict(list_of_texts): #получаем словарь частотности по униграммам + Bag of words\n",
    "\n",
    "    bag_of_words = []\n",
    "\n",
    "    for txt in list_of_texts:\n",
    "        for wrd in txt.split(' '):\n",
    "            bag_of_words.append(wrd)\n",
    "        \n",
    "    unique_words = list(set(bag_of_words))\n",
    "\n",
    "    numbers = []\n",
    "    for item in unique_words:\n",
    "        word_num = bag_of_words.count(item)\n",
    "        numbers.append(word_num)\n",
    "    \n",
    "    dictionary = dict(zip(unique_words, numbers))\n",
    "    \n",
    "    return dictionary, bag_of_words"
   ]
  },
  {
   "cell_type": "code",
   "execution_count": 65,
   "metadata": {
    "collapsed": true
   },
   "outputs": [],
   "source": [
    "def bigrams_to_dict(list_of_texts): # получаем словарь частотности по биграммам + список биграмм\n",
    "    \n",
    "    bag_of_bigrams = []\n",
    "    \n",
    "    for text in list_of_texts:\n",
    "        txt = list(text.split(' '))\n",
    "        for word in range(1, len(txt) - 1):\n",
    "            bag_of_bigrams.append(' '.join([txt[word - 1], txt[word]]))\n",
    "    \n",
    "    unique_bigrams = list(set(bag_of_bigrams))\n",
    "    \n",
    "    count = []\n",
    "    \n",
    "    for item in unique_bigrams:\n",
    "        bi_count = bag_of_bigrams.count(item)\n",
    "        count.append(bi_count)\n",
    "    \n",
    "    dictionary = dict(zip(unique_bigrams, count))\n",
    "    \n",
    "    return dictionary, bag_of_bigrams"
   ]
  },
  {
   "cell_type": "code",
   "execution_count": 66,
   "metadata": {
    "collapsed": true
   },
   "outputs": [],
   "source": [
    "def freq_sort(dictionary): #из словаря частотности получаем список ключей, отсортированных в порядке убывания частотности\n",
    "    dict_words = list(dictionary.keys())\n",
    "    dict_freq = list(dictionary.values())\n",
    "\n",
    "    almost_done = list(zip(dict_words, dict_freq))\n",
    "    almost_done.sort(key = lambda almost_done: almost_done[1], reverse=True)\n",
    "    \n",
    "    return almost_done"
   ]
  },
  {
   "cell_type": "code",
   "execution_count": 67,
   "metadata": {
    "collapsed": true
   },
   "outputs": [],
   "source": [
    "with open('C:/Users/student/Desktop/string_corpora.txt', encoding ='UTF-8') as fl:\n",
    "    texts = fl.read()"
   ]
  },
  {
   "cell_type": "code",
   "execution_count": 68,
   "metadata": {
    "collapsed": true
   },
   "outputs": [],
   "source": [
    "corpus = texts.split('\\n')"
   ]
  },
  {
   "cell_type": "code",
   "execution_count": 69,
   "metadata": {
    "collapsed": true
   },
   "outputs": [],
   "source": [
    "import re"
   ]
  },
  {
   "cell_type": "code",
   "execution_count": 70,
   "metadata": {
    "collapsed": true
   },
   "outputs": [],
   "source": [
    "string = 'острый'"
   ]
  },
  {
   "cell_type": "code",
   "execution_count": 71,
   "metadata": {
    "collapsed": false
   },
   "outputs": [],
   "source": [
    "corpus_cut = []\n",
    "for text in corpus:\n",
    "    if string in text:\n",
    "        corpus_cut.append(text)\n",
    "    else:\n",
    "        continue"
   ]
  },
  {
   "cell_type": "code",
   "execution_count": 72,
   "metadata": {
    "collapsed": false
   },
   "outputs": [
    {
     "data": {
      "text/plain": [
       "702"
      ]
     },
     "execution_count": 72,
     "metadata": {},
     "output_type": "execute_result"
    }
   ],
   "source": [
    "len(corpus_cut)"
   ]
  },
  {
   "cell_type": "code",
   "execution_count": 75,
   "metadata": {
    "collapsed": false
   },
   "outputs": [
    {
     "name": "stdout",
     "output_type": "stream",
     "text": [
      "Wall time: 0 ns\n",
      "20456 22324\n"
     ]
    }
   ],
   "source": [
    "%time\n",
    "dict_words, BOG = bigrams_to_dict(corpus_cut[:50])\n",
    "print(len(dict_words), len(BOG))"
   ]
  },
  {
   "cell_type": "code",
   "execution_count": 76,
   "metadata": {
    "collapsed": true
   },
   "outputs": [],
   "source": [
    "dict_uni, BOG_uni = words_to_dict(corpus_cut[:50])"
   ]
  },
  {
   "cell_type": "code",
   "execution_count": 77,
   "metadata": {
    "collapsed": true
   },
   "outputs": [],
   "source": [
    "pmi_rbc = {}\n",
    "\n",
    "for bi in BOG:\n",
    "    x1, y1  = bi.split()\n",
    "    if x1 == string or y1 == string:\n",
    "        p_xy1 = dict_words[' '.join([x1, y1])]/len(BOG)\n",
    "        p_x1, p_y1 = dict_uni[x1]/len(BOG_uni), dict_uni[y1]/len(BOG_uni)\n",
    "        pmi1 = log(p_xy1/(p_x1 * p_y1))\n",
    "        pmi_rbc[bi] = pmi1\n",
    "    else:\n",
    "        continue"
   ]
  },
  {
   "cell_type": "code",
   "execution_count": 78,
   "metadata": {
    "collapsed": false
   },
   "outputs": [
    {
     "data": {
      "text/plain": [
       "99"
      ]
     },
     "execution_count": 78,
     "metadata": {},
     "output_type": "execute_result"
    }
   ],
   "source": [
    "len(pmi_rbc)"
   ]
  },
  {
   "cell_type": "code",
   "execution_count": 79,
   "metadata": {
    "collapsed": true
   },
   "outputs": [],
   "source": [
    "sorted_collocations = freq_sort(pmi_rbc)"
   ]
  },
  {
   "cell_type": "code",
   "execution_count": 125,
   "metadata": {
    "collapsed": false
   },
   "outputs": [
    {
     "data": {
      "text/plain": [
       "[('острый кремниевый', 5.979305305946374),\n",
       " ('риккетсиоза острый', 5.979305305946374),\n",
       " ('эпидемия острый', 5.979305305946374),\n",
       " ('энциклопедический острый', 5.979305305946374),\n",
       " ('острый обоняние', 5.979305305946374),\n",
       " ('убирать острый', 5.979305305946374),\n",
       " ('острый фаза', 5.979305305946374),\n",
       " ('вертикально острый', 5.979305305946374),\n",
       " ('фишка острый', 5.979305305946374),\n",
       " ('нагрузка острый', 5.979305305946374)]"
      ]
     },
     "execution_count": 125,
     "metadata": {},
     "output_type": "execute_result"
    }
   ],
   "source": [
    "sorted_collocations[:10]"
   ]
  },
  {
   "cell_type": "code",
   "execution_count": 96,
   "metadata": {
    "collapsed": true
   },
   "outputs": [],
   "source": [
    "corpus_split = [text.split(' ') for text in corpus_cut]"
   ]
  },
  {
   "cell_type": "code",
   "execution_count": 83,
   "metadata": {
    "collapsed": true
   },
   "outputs": [],
   "source": [
    "from nltk.collocations import *"
   ]
  },
  {
   "cell_type": "code",
   "execution_count": 92,
   "metadata": {
    "collapsed": true
   },
   "outputs": [],
   "source": [
    "bigram_measures = nltk.collocations.BigramAssocMeasures()"
   ]
  },
  {
   "cell_type": "code",
   "execution_count": 97,
   "metadata": {
    "collapsed": true
   },
   "outputs": [],
   "source": [
    "finder2 = BigramCollocationFinder.from_documents(corpus_split[:50])"
   ]
  },
  {
   "cell_type": "code",
   "execution_count": 98,
   "metadata": {
    "collapsed": false
   },
   "outputs": [
    {
     "data": {
      "text/plain": [
       "nltk.collocations.BigramCollocationFinder"
      ]
     },
     "execution_count": 98,
     "metadata": {},
     "output_type": "execute_result"
    }
   ],
   "source": [
    "type(finder2)"
   ]
  },
  {
   "cell_type": "code",
   "execution_count": 121,
   "metadata": {
    "collapsed": false
   },
   "outputs": [],
   "source": [
    "col2 = finder2.nbest(bigram_measures.raw_freq, 900)"
   ]
  },
  {
   "cell_type": "code",
   "execution_count": 122,
   "metadata": {
    "collapsed": false
   },
   "outputs": [
    {
     "data": {
      "text/plain": [
       "list"
      ]
     },
     "execution_count": 122,
     "metadata": {},
     "output_type": "execute_result"
    }
   ],
   "source": [
    "type(col2)"
   ]
  },
  {
   "cell_type": "code",
   "execution_count": 123,
   "metadata": {
    "collapsed": false
   },
   "outputs": [],
   "source": [
    "col2_sorted = [t for t in col2 if string in t]"
   ]
  },
  {
   "cell_type": "code",
   "execution_count": 124,
   "metadata": {
    "collapsed": false
   },
   "outputs": [
    {
     "data": {
      "text/plain": [
       "[('острый', 'инфаркт'),\n",
       " ('острый', 'респираторный'),\n",
       " ('заболевание', 'острый'),\n",
       " ('лечение', 'острый'),\n",
       " ('острый', 'вопрос'),\n",
       " ('острый', 'горный'),\n",
       " ('острый', 'зуб'),\n",
       " ('острый', 'инфекция'),\n",
       " ('острый', 'предмет'),\n",
       " ('острый', 'угол')]"
      ]
     },
     "execution_count": 124,
     "metadata": {},
     "output_type": "execute_result"
    }
   ],
   "source": [
    "col2_sorted"
   ]
  },
  {
   "cell_type": "code",
   "execution_count": null,
   "metadata": {
    "collapsed": true
   },
   "outputs": [],
   "source": []
  }
 ],
 "metadata": {
  "kernelspec": {
   "display_name": "Python 3",
   "language": "python",
   "name": "python3"
  },
  "language_info": {
   "codemirror_mode": {
    "name": "ipython",
    "version": 3
   },
   "file_extension": ".py",
   "mimetype": "text/x-python",
   "name": "python",
   "nbconvert_exporter": "python",
   "pygments_lexer": "ipython3",
   "version": "3.4.3"
  }
 },
 "nbformat": 4,
 "nbformat_minor": 0
}
