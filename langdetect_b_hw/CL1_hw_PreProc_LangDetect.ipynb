{
 "cells": [
  {
   "cell_type": "code",
   "execution_count": 93,
   "metadata": {
    "collapsed": true
   },
   "outputs": [],
   "source": [
    "from collections import Counter\n",
    "import re\n",
    "from nltk.tokenize import TreebankWordTokenizer"
   ]
  },
  {
   "cell_type": "markdown",
   "metadata": {},
   "source": [
    "## Предобработка"
   ]
  },
  {
   "cell_type": "markdown",
   "metadata": {},
   "source": [
    "- Удалить из всех текстов символы/токены/части документов, которые затруднят классификацию.\n",
    "\n"
   ]
  },
  {
   "cell_type": "code",
   "execution_count": 7,
   "metadata": {},
   "outputs": [],
   "source": [
    "fname_rus = \"./udhr_txt/udhr_rus.txt\"\n",
    "fname_bel = \"./udhr_txt/udhr_bel.txt\"\n",
    "fname_bul = \"./udhr_txt/udhr_bul.txt\"\n",
    "fname_serb = \"./udhr_txt/udhr_srp_cyrl.txt\"\n",
    "fname_tat = \"./udhr_txt/udhr_tat.txt\"\n",
    "fname_ukr = \"./udhr_txt/udhr_ukr.txt\"\n",
    "fname_kaz = \"./udhr_txt/udhr_kaz.txt\"\n"
   ]
  },
  {
   "cell_type": "code",
   "execution_count": 75,
   "metadata": {
    "collapsed": true
   },
   "outputs": [],
   "source": [
    "def preprocess(fname):\n",
    "    \n",
    "    with open(fname, encoding=\"utf-8\") as fl:\n",
    "        text = fl.read()\n",
    "    \n",
    "    words_filtered = []\n",
    "\n",
    "    tokenizedWords = TreebankWordTokenizer().tokenize(text.lower())\n",
    "\n",
    "    for wf in tokenizedWords:\n",
    "        for w in re.findall(r'(\\w+)', wf):\n",
    "            for wtf in re.findall(r'(\\D+)', w):\n",
    "                words_filtered.append(wtf)\n",
    "    \n",
    "    return words_filtered[31:]"
   ]
  },
  {
   "cell_type": "code",
   "execution_count": 80,
   "metadata": {},
   "outputs": [],
   "source": [
    "rus = preprocess(fname_rus)\n",
    "bel = preprocess(fname_bel)\n",
    "bulg = preprocess(fname_bul)\n",
    "serb = preprocess(fname_serb)\n",
    "tat = preprocess(fname_tat)\n",
    "ukr = preprocess(fname_ukr)\n",
    "kaz = preprocess(fname_kaz)"
   ]
  },
  {
   "cell_type": "markdown",
   "metadata": {},
   "source": [
    "Собрать для каждого языка частотный список слов/биграмм/триграмм. Записать топ-300 в текстовый файл (по одному нграмму на строке, от более частого к менее частому).\n"
   ]
  },
  {
   "cell_type": "code",
   "execution_count": 98,
   "metadata": {
    "collapsed": true
   },
   "outputs": [],
   "source": [
    "#функция берет на вход список слов, а на выход отдает словарь, где уникальные слова - это ключи, \n",
    "#а количество вхождений слова - это значение\n",
    "\n",
    "def text_to_dict(list_of_words):\n",
    "        \n",
    "    unique_words = list(set(list_of_words))\n",
    "\n",
    "    numbers = []\n",
    "    for item in unique_words:\n",
    "        word_num = list_of_words.count(item)\n",
    "        numbers.append(word_num)\n",
    "    \n",
    "    dictionary = dict(zip(unique_words, numbers))\n",
    "    \n",
    "    return dictionary"
   ]
  },
  {
   "cell_type": "code",
   "execution_count": 103,
   "metadata": {},
   "outputs": [],
   "source": [
    "w_freq_rus = text_to_dict(rus)\n",
    "w_freq_bel = text_to_dict(bel)\n",
    "w_freq_bulg = text_to_dict(bulg)\n",
    "w_freq_serb = text_to_dict(serb)\n",
    "w_freq_tat = text_to_dict(tat)\n",
    "w_freq_ukr = text_to_dict(ukr)\n",
    "w_freq_kaz = text_to_dict(kaz)"
   ]
  },
  {
   "cell_type": "markdown",
   "metadata": {},
   "source": [
    "Для каждого языка записываем в отдельный файл список 300 самых частотных слов"
   ]
  },
  {
   "cell_type": "code",
   "execution_count": 140,
   "metadata": {},
   "outputs": [],
   "source": [
    "fl = open('rus.txt', 'w')\n",
    "\n",
    "for i in range(300):\n",
    "    fl.write(list(Counter(w_freq_rus).most_common(300))[i][0] + '\\n')\n",
    "\n",
    "fl.close()"
   ]
  },
  {
   "cell_type": "code",
   "execution_count": 141,
   "metadata": {
    "collapsed": true
   },
   "outputs": [],
   "source": [
    "fl = open('bel.txt', 'w')\n",
    "\n",
    "for i in range(300):\n",
    "    fl.write(list(Counter(w_freq_bel).most_common(300))[i][0] + '\\n')\n",
    "\n",
    "fl.close()"
   ]
  },
  {
   "cell_type": "code",
   "execution_count": 142,
   "metadata": {
    "collapsed": true
   },
   "outputs": [],
   "source": [
    "fl = open('bulg.txt', 'w')\n",
    "\n",
    "for i in range(300):\n",
    "    fl.write(list(Counter(w_freq_bulg).most_common(300))[i][0] + '\\n')\n",
    "\n",
    "fl.close()"
   ]
  },
  {
   "cell_type": "code",
   "execution_count": 143,
   "metadata": {
    "collapsed": true
   },
   "outputs": [],
   "source": [
    "fl = open('serb.txt', 'w')\n",
    "\n",
    "for i in range(300):\n",
    "    fl.write(list(Counter(w_freq_serb).most_common(300))[i][0] + '\\n')\n",
    "\n",
    "fl.close()"
   ]
  },
  {
   "cell_type": "code",
   "execution_count": 144,
   "metadata": {
    "collapsed": true
   },
   "outputs": [],
   "source": [
    "fl = open('tat.txt', 'w')\n",
    "\n",
    "for i in range(300):\n",
    "    fl.write(list(Counter(w_freq_tat).most_common(300))[i][0] + '\\n')\n",
    "\n",
    "fl.close()"
   ]
  },
  {
   "cell_type": "code",
   "execution_count": 145,
   "metadata": {
    "collapsed": true
   },
   "outputs": [],
   "source": [
    "fl = open('ukr.txt', 'w')\n",
    "\n",
    "for i in range(300):\n",
    "    fl.write(list(Counter(w_freq_ukr).most_common(300))[i][0] + '\\n')\n",
    "\n",
    "fl.close()"
   ]
  },
  {
   "cell_type": "code",
   "execution_count": 146,
   "metadata": {
    "collapsed": true
   },
   "outputs": [],
   "source": [
    "fl = open('kaz.txt', 'w')\n",
    "\n",
    "for i in range(300):\n",
    "    fl.write(list(Counter(w_freq_kaz).most_common(300))[i][0] + '\\n')\n",
    "\n",
    "fl.close()"
   ]
  },
  {
   "cell_type": "markdown",
   "metadata": {},
   "source": [
    "Для каждого языка находим список 300 самых частотных триграммов и записываем в отдельный файл (до этого также нашли самые частотные биграммы)"
   ]
  },
  {
   "cell_type": "code",
   "execution_count": 173,
   "metadata": {},
   "outputs": [],
   "source": [
    "n = 3\n",
    "\n",
    "ngrams_rus = []\n",
    "for word in rus:\n",
    "    for i in range(len(word)-n+1):\n",
    "        ngrams_rus.append(word[i:i+n])\n",
    "\n",
    "bi_rus = text_to_dict(ngrams_rus)\n",
    "\n",
    "fl = open('rus_trigram.txt', 'w')\n",
    "\n",
    "for i in range(300):\n",
    "    fl.write(list(Counter(bi_rus).most_common(300))[i][0] + '\\n')\n",
    "\n",
    "fl.close()"
   ]
  },
  {
   "cell_type": "code",
   "execution_count": 174,
   "metadata": {},
   "outputs": [],
   "source": [
    "n = 3\n",
    "\n",
    "ngrams_bel = []\n",
    "for word in bel:\n",
    "    for i in range(len(word)-n+1):\n",
    "        ngrams_bel.append(word[i:i+n])\n",
    "\n",
    "bi_bel = text_to_dict(ngrams_bel)\n",
    "\n",
    "fl = open('bel_trigram.txt', 'w')\n",
    "\n",
    "for i in range(300):\n",
    "    fl.write(list(Counter(bi_bel).most_common(300))[i][0] + '\\n')\n",
    "\n",
    "fl.close()"
   ]
  },
  {
   "cell_type": "code",
   "execution_count": 175,
   "metadata": {
    "collapsed": true
   },
   "outputs": [],
   "source": [
    "n = 3\n",
    "\n",
    "ngrams_bulg = []\n",
    "for word in bulg:\n",
    "    for i in range(len(word)-n+1):\n",
    "        ngrams_bulg.append(word[i:i+n])\n",
    "\n",
    "bi_bulg = text_to_dict(ngrams_bulg)\n",
    "\n",
    "fl = open('bulg_trigram.txt', 'w')\n",
    "\n",
    "for i in range(300):\n",
    "    fl.write(list(Counter(bi_bulg).most_common(300))[i][0] + '\\n')\n",
    "\n",
    "fl.close()"
   ]
  },
  {
   "cell_type": "code",
   "execution_count": 176,
   "metadata": {
    "collapsed": true
   },
   "outputs": [],
   "source": [
    "n = 3\n",
    "\n",
    "ngrams_serb = []\n",
    "for word in serb:\n",
    "    for i in range(len(word)-n+1):\n",
    "        ngrams_serb.append(word[i:i+n])\n",
    "\n",
    "bi_serb = text_to_dict(ngrams_serb)\n",
    "\n",
    "fl = open('serb_triigram.txt', 'w')\n",
    "\n",
    "for i in range(300):\n",
    "    fl.write(list(Counter(bi_serb).most_common(300))[i][0] + '\\n')\n",
    "\n",
    "fl.close()"
   ]
  },
  {
   "cell_type": "code",
   "execution_count": 177,
   "metadata": {
    "collapsed": true
   },
   "outputs": [],
   "source": [
    "n = 3\n",
    "\n",
    "ngrams_tat = []\n",
    "for word in tat:\n",
    "    for i in range(len(word)-n+1):\n",
    "        ngrams_tat.append(word[i:i+n])\n",
    "\n",
    "bi_tat = text_to_dict(ngrams_tat)\n",
    "\n",
    "fl = open('tat_trigram.txt', 'w')\n",
    "\n",
    "for i in range(300):\n",
    "    fl.write(list(Counter(bi_tat).most_common(300))[i][0] + '\\n')\n",
    "\n",
    "fl.close()"
   ]
  },
  {
   "cell_type": "code",
   "execution_count": 178,
   "metadata": {
    "collapsed": true
   },
   "outputs": [],
   "source": [
    "n = 3\n",
    "\n",
    "ngrams_ukr = []\n",
    "for word in ukr:\n",
    "    for i in range(len(word)-n+1):\n",
    "        ngrams_ukr.append(word[i:i+n])\n",
    "\n",
    "bi_ukr = text_to_dict(ngrams_ukr)\n",
    "\n",
    "fl = open('ukr_trigram.txt', 'w')\n",
    "\n",
    "for i in range(300):\n",
    "    fl.write(list(Counter(bi_ukr).most_common(300))[i][0] + '\\n')\n",
    "\n",
    "fl.close()"
   ]
  },
  {
   "cell_type": "code",
   "execution_count": 179,
   "metadata": {},
   "outputs": [],
   "source": [
    "n = 3\n",
    "\n",
    "ngrams_kaz = []\n",
    "for word in kaz:\n",
    "    for i in range(len(word)-n+1):\n",
    "        ngrams_kaz.append(word[i:i+n])\n",
    "\n",
    "bi_kaz = text_to_dict(ngrams_kaz)\n",
    "\n",
    "fl = open('kaz_trigram.txt', 'w')\n",
    "\n",
    "for i in range(300):\n",
    "    fl.write(list(Counter(bi_kaz).most_common(300))[i][0] + '\\n')\n",
    "\n",
    "fl.close()      "
   ]
  },
  {
   "cell_type": "markdown",
   "metadata": {},
   "source": [
    "Построить матрицу схожести языков, визуализировать её. Схожесть считаем как объём пересечения полученных топов нграмм (сколько нграммов попали в оба топа?).\n",
    "Какие языки оказались очень похожи друг на друга, а какие нет? Иными словами, какие языки проще различить по нграммам, а какие труднее? Интерпретируйте результат.\n"
   ]
  },
  {
   "cell_type": "code",
   "execution_count": 186,
   "metadata": {
    "collapsed": true
   },
   "outputs": [],
   "source": [
    "fname_rus_w = ('./langdetect_b_hw/words/rus.txt')\n",
    "fname_bel_w = ('./langdetect_b_hw/words/bel.txt')\n",
    "fname_bulg_w = ('./langdetect_b_hw/words/bulg.txt')\n",
    "fname_serb_w = ('./langdetect_b_hw/words/serb.txt')\n",
    "fname_tat_w = ('./langdetect_b_hw/words/tat.txt')\n",
    "fname_ukr_w = ('./langdetect_b_hw/words/ukr.txt')\n",
    "fname_kaz_w = ('./langdetect_b_hw/words/kaz.txt')"
   ]
  },
  {
   "cell_type": "code",
   "execution_count": 215,
   "metadata": {},
   "outputs": [],
   "source": [
    "with open(fname_rus_w) as fl:\n",
    "    rus_w = fl.read().split('\\n')\n",
    "\n",
    "with open(fname_bel_w) as fl:\n",
    "    bel_w = fl.read().split('\\n')\n",
    "\n",
    "with open(fname_bulg_w) as fl:\n",
    "    bulg_w = fl.read().split('\\n')\n",
    "\n",
    "with open(fname_serb_w) as fl:\n",
    "    serb_w = fl.read().split('\\n')\n",
    "\n",
    "with open(fname_tat_w) as fl:\n",
    "    tat_w = fl.read().split('\\n')\n",
    "\n",
    "with open(fname_kaz_w) as fl:\n",
    "    kaz_w = fl.read().split('\\n')\n",
    "\n",
    "with open(fname_ukr_w) as fl:\n",
    "    ukr_w = fl.read().split('\\n')\n"
   ]
  },
  {
   "cell_type": "markdown",
   "metadata": {},
   "source": [
    "Строим матрицу схожести языков по высокочастотным словам"
   ]
  },
  {
   "cell_type": "code",
   "execution_count": 268,
   "metadata": {},
   "outputs": [],
   "source": [
    "import numpy as np\n",
    "\n",
    "sim_matrix = np.zeros((7, 7), dtype=int)\n",
    "text_list = [rus_w, bel_w, bulg_w, serb_w, tat_w, kaz_w, ukr_w]\n",
    "\n",
    "for lst in text_list:\n",
    "    for i in range(7):\n",
    "        value = set(lst) & set(text_list[i])\n",
    "        sim_matrix[text_list.index(lst)][i] = len(value) - 1"
   ]
  },
  {
   "cell_type": "code",
   "execution_count": 269,
   "metadata": {},
   "outputs": [
    {
     "data": {
      "text/html": [
       "<div>\n",
       "<table border=\"1\" class=\"dataframe\">\n",
       "  <thead>\n",
       "    <tr style=\"text-align: right;\">\n",
       "      <th></th>\n",
       "      <th>rus</th>\n",
       "      <th>bel</th>\n",
       "      <th>bulg</th>\n",
       "      <th>serb</th>\n",
       "      <th>tat</th>\n",
       "      <th>kaz</th>\n",
       "      <th>ukr</th>\n",
       "    </tr>\n",
       "  </thead>\n",
       "  <tbody>\n",
       "    <tr>\n",
       "      <th>rus</th>\n",
       "      <td>300</td>\n",
       "      <td>17</td>\n",
       "      <td>29</td>\n",
       "      <td>22</td>\n",
       "      <td>2</td>\n",
       "      <td>3</td>\n",
       "      <td>29</td>\n",
       "    </tr>\n",
       "    <tr>\n",
       "      <th>bel</th>\n",
       "      <td>17</td>\n",
       "      <td>300</td>\n",
       "      <td>7</td>\n",
       "      <td>8</td>\n",
       "      <td>1</td>\n",
       "      <td>2</td>\n",
       "      <td>22</td>\n",
       "    </tr>\n",
       "    <tr>\n",
       "      <th>bulg</th>\n",
       "      <td>29</td>\n",
       "      <td>7</td>\n",
       "      <td>300</td>\n",
       "      <td>28</td>\n",
       "      <td>1</td>\n",
       "      <td>2</td>\n",
       "      <td>14</td>\n",
       "    </tr>\n",
       "    <tr>\n",
       "      <th>serb</th>\n",
       "      <td>22</td>\n",
       "      <td>8</td>\n",
       "      <td>28</td>\n",
       "      <td>300</td>\n",
       "      <td>1</td>\n",
       "      <td>2</td>\n",
       "      <td>11</td>\n",
       "    </tr>\n",
       "    <tr>\n",
       "      <th>tat</th>\n",
       "      <td>2</td>\n",
       "      <td>1</td>\n",
       "      <td>1</td>\n",
       "      <td>1</td>\n",
       "      <td>300</td>\n",
       "      <td>8</td>\n",
       "      <td>0</td>\n",
       "    </tr>\n",
       "    <tr>\n",
       "      <th>kaz</th>\n",
       "      <td>3</td>\n",
       "      <td>2</td>\n",
       "      <td>2</td>\n",
       "      <td>2</td>\n",
       "      <td>8</td>\n",
       "      <td>300</td>\n",
       "      <td>1</td>\n",
       "    </tr>\n",
       "    <tr>\n",
       "      <th>ukr</th>\n",
       "      <td>29</td>\n",
       "      <td>22</td>\n",
       "      <td>14</td>\n",
       "      <td>11</td>\n",
       "      <td>0</td>\n",
       "      <td>1</td>\n",
       "      <td>300</td>\n",
       "    </tr>\n",
       "  </tbody>\n",
       "</table>\n",
       "</div>"
      ],
      "text/plain": [
       "      rus  bel  bulg  serb  tat  kaz  ukr\n",
       "rus   300   17    29    22    2    3   29\n",
       "bel    17  300     7     8    1    2   22\n",
       "bulg   29    7   300    28    1    2   14\n",
       "serb   22    8    28   300    1    2   11\n",
       "tat     2    1     1     1  300    8    0\n",
       "kaz     3    2     2     2    8  300    1\n",
       "ukr    29   22    14    11    0    1  300"
      ]
     },
     "execution_count": 269,
     "metadata": {},
     "output_type": "execute_result"
    }
   ],
   "source": [
    "import pandas as pd\n",
    "\n",
    "df_matrix = pd.DataFrame(sim_matrix)\n",
    "df_matrix.columns = ['rus', 'bel', 'bulg', 'serb', 'tat', 'kaz', 'ukr']\n",
    "df_matrix.index = ['rus', 'bel', 'bulg', 'serb', 'tat', 'kaz', 'ukr']\n",
    "df_matrix"
   ]
  },
  {
   "cell_type": "code",
   "execution_count": 283,
   "metadata": {},
   "outputs": [
    {
     "data": {
      "image/png": "[encoded data removed]",
      "text/plain": [
       "<matplotlib.figure.Figure at 0x7f8714975c18>"
      ]
     },
     "metadata": {},
     "output_type": "display_data"
    }
   ],
   "source": [
    "import seaborn as sns\n",
    "import matplotlib.pyplot as plt\n",
    "%matplotlib inline\n",
    "\n",
    "sns.heatmap(data=df_matrix, cmap = \"Blues\", annot=True, fmt = 'd', cbar=False)\n",
    "plt.title(\"Similarity Matrix Words\")\n",
    "plt.show()\n"
   ]
  },
  {
   "cell_type": "markdown",
   "metadata": {},
   "source": [
    "Строим матрицу схожести языков по биграммам"
   ]
  },
  {
   "cell_type": "code",
   "execution_count": 271,
   "metadata": {
    "collapsed": true
   },
   "outputs": [],
   "source": [
    "fname_rus_bi = ('./langdetect_b_hw/bigrams/rus_bigram.txt')\n",
    "fname_bel_bi = ('./langdetect_b_hw/bigrams/bel_bigram.txt')\n",
    "fname_bulg_bi = ('./langdetect_b_hw/bigrams/bulg_bigram.txt')\n",
    "fname_serb_bi = ('./langdetect_b_hw/bigrams/serb_bigram.txt')\n",
    "fname_tat_bi = ('./langdetect_b_hw/bigrams/tat_bigram.txt')\n",
    "fname_ukr_bi = ('./langdetect_b_hw/bigrams/ukr_bigram.txt')\n",
    "fname_kaz_bi = ('./langdetect_b_hw/bigrams/kaz_bigram.txt')"
   ]
  },
  {
   "cell_type": "code",
   "execution_count": 272,
   "metadata": {},
   "outputs": [],
   "source": [
    "with open(fname_rus_bi) as fl:\n",
    "    rus_bi = fl.read().split('\\n')\n",
    "\n",
    "with open(fname_bel_bi) as fl:\n",
    "    bel_bi = fl.read().split('\\n')\n",
    "\n",
    "with open(fname_bulg_bi) as fl:\n",
    "    bulg_bi = fl.read().split('\\n')\n",
    "\n",
    "with open(fname_serb_bi) as fl:\n",
    "    serb_bi = fl.read().split('\\n')\n",
    "\n",
    "with open(fname_tat_bi) as fl:\n",
    "    tat_bi = fl.read().split('\\n')\n",
    "\n",
    "with open(fname_kaz_bi) as fl:\n",
    "    kaz_bi = fl.read().split('\\n')\n",
    "\n",
    "with open(fname_ukr_bi) as fl:\n",
    "    ukr_bi = fl.read().split('\\n')"
   ]
  },
  {
   "cell_type": "code",
   "execution_count": 265,
   "metadata": {},
   "outputs": [],
   "source": [
    "bi_matrix = np.zeros((7, 7), dtype=int)\n",
    "bi_list = [rus_bi, bel_bi, bulg_bi, serb_bi, tat_bi, kaz_bi, ukr_bi]\n",
    "\n",
    "for lst in bi_list:\n",
    "    for i in range(7):\n",
    "        bi_value = set(lst) & set(bi_list[i])\n",
    "        bi_matrix[bi_list.index(lst)][i] = len(bi_value) - 1"
   ]
  },
  {
   "cell_type": "code",
   "execution_count": 266,
   "metadata": {},
   "outputs": [
    {
     "data": {
      "text/html": [
       "<div>\n",
       "<table border=\"1\" class=\"dataframe\">\n",
       "  <thead>\n",
       "    <tr style=\"text-align: right;\">\n",
       "      <th></th>\n",
       "      <th>rus</th>\n",
       "      <th>bel</th>\n",
       "      <th>bulg</th>\n",
       "      <th>serb</th>\n",
       "      <th>tat</th>\n",
       "      <th>kaz</th>\n",
       "      <th>ukr</th>\n",
       "    </tr>\n",
       "  </thead>\n",
       "  <tbody>\n",
       "    <tr>\n",
       "      <th>rus</th>\n",
       "      <td>300</td>\n",
       "      <td>180</td>\n",
       "      <td>233</td>\n",
       "      <td>194</td>\n",
       "      <td>153</td>\n",
       "      <td>128</td>\n",
       "      <td>210</td>\n",
       "    </tr>\n",
       "    <tr>\n",
       "      <th>bel</th>\n",
       "      <td>180</td>\n",
       "      <td>300</td>\n",
       "      <td>159</td>\n",
       "      <td>144</td>\n",
       "      <td>125</td>\n",
       "      <td>123</td>\n",
       "      <td>187</td>\n",
       "    </tr>\n",
       "    <tr>\n",
       "      <th>bulg</th>\n",
       "      <td>233</td>\n",
       "      <td>159</td>\n",
       "      <td>300</td>\n",
       "      <td>209</td>\n",
       "      <td>138</td>\n",
       "      <td>119</td>\n",
       "      <td>198</td>\n",
       "    </tr>\n",
       "    <tr>\n",
       "      <th>serb</th>\n",
       "      <td>194</td>\n",
       "      <td>144</td>\n",
       "      <td>209</td>\n",
       "      <td>300</td>\n",
       "      <td>132</td>\n",
       "      <td>112</td>\n",
       "      <td>181</td>\n",
       "    </tr>\n",
       "    <tr>\n",
       "      <th>tat</th>\n",
       "      <td>153</td>\n",
       "      <td>125</td>\n",
       "      <td>138</td>\n",
       "      <td>132</td>\n",
       "      <td>300</td>\n",
       "      <td>164</td>\n",
       "      <td>128</td>\n",
       "    </tr>\n",
       "    <tr>\n",
       "      <th>kaz</th>\n",
       "      <td>128</td>\n",
       "      <td>123</td>\n",
       "      <td>119</td>\n",
       "      <td>112</td>\n",
       "      <td>164</td>\n",
       "      <td>300</td>\n",
       "      <td>120</td>\n",
       "    </tr>\n",
       "    <tr>\n",
       "      <th>ukr</th>\n",
       "      <td>210</td>\n",
       "      <td>187</td>\n",
       "      <td>198</td>\n",
       "      <td>181</td>\n",
       "      <td>128</td>\n",
       "      <td>120</td>\n",
       "      <td>300</td>\n",
       "    </tr>\n",
       "  </tbody>\n",
       "</table>\n",
       "</div>"
      ],
      "text/plain": [
       "      rus  bel  bulg  serb  tat  kaz  ukr\n",
       "rus   300  180   233   194  153  128  210\n",
       "bel   180  300   159   144  125  123  187\n",
       "bulg  233  159   300   209  138  119  198\n",
       "serb  194  144   209   300  132  112  181\n",
       "tat   153  125   138   132  300  164  128\n",
       "kaz   128  123   119   112  164  300  120\n",
       "ukr   210  187   198   181  128  120  300"
      ]
     },
     "execution_count": 266,
     "metadata": {},
     "output_type": "execute_result"
    }
   ],
   "source": [
    "df_bi_matrix = pd.DataFrame(bi_matrix)\n",
    "df_bi_matrix.columns = ['rus', 'bel', 'bulg', 'serb', 'tat', 'kaz', 'ukr']\n",
    "df_bi_matrix.index = ['rus', 'bel', 'bulg', 'serb', 'tat', 'kaz', 'ukr']\n",
    "df_bi_matrix"
   ]
  },
  {
   "cell_type": "code",
   "execution_count": 284,
   "metadata": {},
   "outputs": [
    {
     "data": {
      "image/png": "[encoded data removed]",
      "text/plain": [
       "<matplotlib.figure.Figure at 0x7f8714aef4a8>"
      ]
     },
     "metadata": {},
     "output_type": "display_data"
    }
   ],
   "source": [
    "sns.heatmap(data=df_bi_matrix, cmap = \"Blues\", annot=True, fmt=\"d\", cbar=False)\n",
    "plt.title(\"Similarity Matrix Bigrams\")\n",
    "plt.show()"
   ]
  },
  {
   "cell_type": "markdown",
   "metadata": {},
   "source": [
    "Строим матрицу схожести языков по триграммам"
   ]
  },
  {
   "cell_type": "code",
   "execution_count": 274,
   "metadata": {
    "collapsed": true
   },
   "outputs": [],
   "source": [
    "fname_rus_tri = ('./langdetect_b_hw/trigrams/rus_trigram.txt')\n",
    "fname_bel_tri = ('./langdetect_b_hw/trigrams/bel_trigram.txt')\n",
    "fname_bulg_tri = ('./langdetect_b_hw/trigrams/bulg_trigram.txt')\n",
    "fname_serb_tri = ('./langdetect_b_hw/trigrams/serb_triigram.txt')\n",
    "fname_tat_tri = ('./langdetect_b_hw/trigrams/tat_trigram.txt')\n",
    "fname_ukr_tri = ('./langdetect_b_hw/trigrams/ukr_trigram.txt')\n",
    "fname_kaz_tri = ('./langdetect_b_hw/trigrams/kaz_trigram.txt')"
   ]
  },
  {
   "cell_type": "code",
   "execution_count": 275,
   "metadata": {
    "collapsed": true
   },
   "outputs": [],
   "source": [
    "with open(fname_rus_tri) as fl:\n",
    "    rus_tri = fl.read().split('\\n')\n",
    "\n",
    "with open(fname_bel_tri) as fl:\n",
    "    bel_tri = fl.read().split('\\n')\n",
    "\n",
    "with open(fname_bulg_tri) as fl:\n",
    "    bulg_tri = fl.read().split('\\n')\n",
    "\n",
    "with open(fname_serb_tri) as fl:\n",
    "    serb_tri = fl.read().split('\\n')\n",
    "\n",
    "with open(fname_tat_tri) as fl:\n",
    "    tat_tri = fl.read().split('\\n')\n",
    "\n",
    "with open(fname_kaz_tri) as fl:\n",
    "    kaz_tri = fl.read().split('\\n')\n",
    "\n",
    "with open(fname_ukr_tri) as fl:\n",
    "    ukr_tri = fl.read().split('\\n')"
   ]
  },
  {
   "cell_type": "code",
   "execution_count": 276,
   "metadata": {
    "collapsed": true
   },
   "outputs": [],
   "source": [
    "tri_matrix = np.zeros((7, 7), dtype=int)\n",
    "tri_list = [rus_tri, bel_tri, bulg_tri, serb_tri, tat_tri, kaz_tri, ukr_tri]\n",
    "\n",
    "for lst in tri_list:\n",
    "    for i in range(7):\n",
    "        tri_value = set(lst) & set(tri_list[i])\n",
    "        tri_matrix[tri_list.index(lst)][i] = len(tri_value) - 1"
   ]
  },
  {
   "cell_type": "code",
   "execution_count": 277,
   "metadata": {},
   "outputs": [
    {
     "data": {
      "text/html": [
       "<div>\n",
       "<table border=\"1\" class=\"dataframe\">\n",
       "  <thead>\n",
       "    <tr style=\"text-align: right;\">\n",
       "      <th></th>\n",
       "      <th>rus</th>\n",
       "      <th>bel</th>\n",
       "      <th>bulg</th>\n",
       "      <th>serb</th>\n",
       "      <th>tat</th>\n",
       "      <th>kaz</th>\n",
       "      <th>ukr</th>\n",
       "    </tr>\n",
       "  </thead>\n",
       "  <tbody>\n",
       "    <tr>\n",
       "      <th>rus</th>\n",
       "      <td>300</td>\n",
       "      <td>65</td>\n",
       "      <td>168</td>\n",
       "      <td>119</td>\n",
       "      <td>38</td>\n",
       "      <td>22</td>\n",
       "      <td>120</td>\n",
       "    </tr>\n",
       "    <tr>\n",
       "      <th>bel</th>\n",
       "      <td>65</td>\n",
       "      <td>300</td>\n",
       "      <td>53</td>\n",
       "      <td>52</td>\n",
       "      <td>31</td>\n",
       "      <td>26</td>\n",
       "      <td>83</td>\n",
       "    </tr>\n",
       "    <tr>\n",
       "      <th>bulg</th>\n",
       "      <td>168</td>\n",
       "      <td>53</td>\n",
       "      <td>300</td>\n",
       "      <td>122</td>\n",
       "      <td>33</td>\n",
       "      <td>22</td>\n",
       "      <td>92</td>\n",
       "    </tr>\n",
       "    <tr>\n",
       "      <th>serb</th>\n",
       "      <td>119</td>\n",
       "      <td>52</td>\n",
       "      <td>122</td>\n",
       "      <td>300</td>\n",
       "      <td>22</td>\n",
       "      <td>20</td>\n",
       "      <td>87</td>\n",
       "    </tr>\n",
       "    <tr>\n",
       "      <th>tat</th>\n",
       "      <td>38</td>\n",
       "      <td>31</td>\n",
       "      <td>33</td>\n",
       "      <td>22</td>\n",
       "      <td>300</td>\n",
       "      <td>64</td>\n",
       "      <td>32</td>\n",
       "    </tr>\n",
       "    <tr>\n",
       "      <th>kaz</th>\n",
       "      <td>22</td>\n",
       "      <td>26</td>\n",
       "      <td>22</td>\n",
       "      <td>20</td>\n",
       "      <td>64</td>\n",
       "      <td>300</td>\n",
       "      <td>23</td>\n",
       "    </tr>\n",
       "    <tr>\n",
       "      <th>ukr</th>\n",
       "      <td>120</td>\n",
       "      <td>83</td>\n",
       "      <td>92</td>\n",
       "      <td>87</td>\n",
       "      <td>32</td>\n",
       "      <td>23</td>\n",
       "      <td>300</td>\n",
       "    </tr>\n",
       "  </tbody>\n",
       "</table>\n",
       "</div>"
      ],
      "text/plain": [
       "      rus  bel  bulg  serb  tat  kaz  ukr\n",
       "rus   300   65   168   119   38   22  120\n",
       "bel    65  300    53    52   31   26   83\n",
       "bulg  168   53   300   122   33   22   92\n",
       "serb  119   52   122   300   22   20   87\n",
       "tat    38   31    33    22  300   64   32\n",
       "kaz    22   26    22    20   64  300   23\n",
       "ukr   120   83    92    87   32   23  300"
      ]
     },
     "execution_count": 277,
     "metadata": {},
     "output_type": "execute_result"
    }
   ],
   "source": [
    "df_tri_matrix = pd.DataFrame(tri_matrix)\n",
    "df_tri_matrix.columns = ['rus', 'bel', 'bulg', 'serb', 'tat', 'kaz', 'ukr']\n",
    "df_tri_matrix.index = ['rus', 'bel', 'bulg', 'serb', 'tat', 'kaz', 'ukr']\n",
    "df_tri_matrix"
   ]
  },
  {
   "cell_type": "code",
   "execution_count": 285,
   "metadata": {},
   "outputs": [
    {
     "data": {
      "image/png": "[encoded data removed]",
      "text/plain": [
       "<matplotlib.figure.Figure at 0x7f871495c7f0>"
      ]
     },
     "metadata": {},
     "output_type": "display_data"
    }
   ],
   "source": [
    "sns.heatmap(data=df_tri_matrix, cmap = \"Blues\", annot=True, fmt=\"d\", cbar=False)\n",
    "plt.title(\"Similarity Matrix Trigram\")\n",
    "plt.show()"
   ]
  },
  {
   "cell_type": "code",
   "execution_count": null,
   "metadata": {
    "collapsed": true
   },
   "outputs": [],
   "source": []
  }
 ],
 "metadata": {
  "kernelspec": {
   "display_name": "Python 3",
   "language": "python",
   "name": "python3"
  },
  "language_info": {
   "codemirror_mode": {
    "name": "ipython",
    "version": 3
   },
   "file_extension": ".py",
   "mimetype": "text/x-python",
   "name": "python",
   "nbconvert_exporter": "python",
   "pygments_lexer": "ipython3",
   "version": "3.6.2"
  }
 },
 "nbformat": 4,
 "nbformat_minor": 2
}
